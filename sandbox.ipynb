{
 "cells": [
  {
   "cell_type": "code",
   "execution_count": 1,
   "metadata": {},
   "outputs": [],
   "source": [
    "import networkx as nx\n",
    "import pynauty as na"
   ]
  },
  {
   "cell_type": "code",
   "execution_count": 2,
   "metadata": {},
   "outputs": [
    {
     "name": "stdout",
     "output_type": "stream",
     "text": [
      "g = h?  True g = i?  True g = h?  False\n"
     ]
    }
   ],
   "source": [
    "g = na.Graph(number_of_vertices=8, directed=False,\n",
    "          adjacency_dict = { 0: [1,2],\n",
    "                             1: [0,4],\n",
    "                             2: [0,3,4,5],\n",
    "                             3: [2,4,5,6],\n",
    "                             4: [1,2,3,5],\n",
    "                             5: [4,2,3,7],\n",
    "                             6: [3,7],\n",
    "                             7: [5,6] })\n",
    "\n",
    "h = na.Graph(number_of_vertices=8, directed=False,\n",
    "          adjacency_dict = { 0: [1,2],\n",
    "                             1: [0,4],\n",
    "                             2: [0,3,4,5],\n",
    "                             3: [2,4,5,7],\n",
    "                             4: [1,2,3,5],\n",
    "                             5: [4,2,3,6],\n",
    "                             6: [5,7],\n",
    "                             7: [3,6] })\n",
    "\n",
    "i = na.Graph(number_of_vertices=8, directed=False,\n",
    "          adjacency_dict = { 0: [2,4,3,6],\n",
    "                             1: [5,4],\n",
    "                             2: [0,3,4,5],\n",
    "                             3: [0,2,4,7],\n",
    "                             4: [0,1,2,3],\n",
    "                             5: [1,2],\n",
    "                             6: [0,7],\n",
    "                             7: [3,6] })\n",
    "\n",
    "j = na.Graph(number_of_vertices=8, directed=False,\n",
    "          adjacency_dict = { 0: [1,2],\n",
    "                             1: [0,3],\n",
    "                             2: [0,3,4,5],\n",
    "                             3: [1,2,4,5],\n",
    "                             4: [2,3,5,6],\n",
    "                             5: [2,3,4,5,6,7],\n",
    "                             6: [4,5,7],\n",
    "                             7: [5,6] })\n",
    "\n",
    "print(\"g = h? \", na.certificate(g) == na.certificate(h), \"g = i? \", na.certificate(g) == na.certificate(i), \"g = h? \", na.certificate(g) == na.certificate(j))"
   ]
  },
  {
   "cell_type": "code",
   "execution_count": 5,
   "metadata": {},
   "outputs": [
    {
     "name": "stdout",
     "output_type": "stream",
     "text": [
      "Are the isomorphisms the same?  True\n",
      "What do the isomorphism matrices look like?\n",
      " [True, False, False, False, True, False, False, True, False, True] [True, False, False, False, True, False, False, True, False, True]\n"
     ]
    }
   ],
   "source": [
    "num_graphs = 4\n",
    "random_nx_graphs = [ nx.gnp_random_graph(8,0.4) for i in range(num_graphs) ]\n",
    "random_na_graphs = [ na.Graph(number_of_vertices = 8, directed = False,\n",
    "                              adjacency_dict = { n: list(nbrdict.keys()) for n, nbrdict in graph.adjacency() }\n",
    "                              ) for graph in random_nx_graphs\n",
    "                   ]\n",
    "\n",
    "nx_iso = [ nx.is_isomorphic(random_nx_graphs[i],random_nx_graphs[j]) for i in range(num_graphs) for j in range(i,num_graphs) ]\n",
    "na_iso = [ na.certificate(random_na_graphs[i]) == na.certificate(random_na_graphs[j]) for i in range(num_graphs) for j in range(i,num_graphs) ]\n",
    "\n",
    "print(\"Are the isomorphisms the same? \", nx_iso == na_iso)\n",
    "print(\"What do the isomorphism matrices look like?\\n\", nx_iso, na_iso)"
   ]
  },
  {
   "cell_type": "code",
   "execution_count": 17,
   "metadata": {},
   "outputs": [],
   "source": [
    "num_graphs = 1000\n",
    "graph_size = 4\n",
    "random_nx_graphs = [ nx.gnp_random_graph(graph_size,0.6) for i in range(num_graphs) ]\n",
    "random_na_graphs = [ na.Graph(number_of_vertices = graph_size, directed = False,\n",
    "                              adjacency_dict = { n: list(nbrdict.keys()) for n, nbrdict in graph.adjacency() }\n",
    "                              ) for graph in random_nx_graphs\n",
    "                   ]"
   ]
  },
  {
   "cell_type": "code",
   "execution_count": 18,
   "metadata": {},
   "outputs": [
    {
     "name": "stdout",
     "output_type": "stream",
     "text": [
      "CPU times: user 33.3 s, sys: 515 ms, total: 33.8 s\n",
      "Wall time: 37.9 s\n"
     ]
    }
   ],
   "source": [
    "%%time\n",
    "nx_iso = [ nx.is_isomorphic(random_nx_graphs[i],random_nx_graphs[j]) for i in range(num_graphs) for j in range(i,num_graphs) ]"
   ]
  },
  {
   "cell_type": "code",
   "execution_count": 19,
   "metadata": {},
   "outputs": [
    {
     "name": "stdout",
     "output_type": "stream",
     "text": [
      "CPU times: user 4.55 s, sys: 60.9 ms, total: 4.61 s\n",
      "Wall time: 5.43 s\n"
     ]
    }
   ],
   "source": [
    "%%time\n",
    "na_iso = [ na.certificate(random_na_graphs[i]) == na.certificate(random_na_graphs[j]) for i in range(num_graphs) for j in range(i,num_graphs) ]"
   ]
  },
  {
   "cell_type": "code",
   "execution_count": 37,
   "metadata": {},
   "outputs": [],
   "source": [
    "import networkx as nx\n",
    "import pynauty as na\n",
    "import networkx.algorithms.isomorphism as iso\n",
    "\n",
    "def find_type_match(graph, graphlet_list):\n",
    "    \"\"\"\n",
    "    Given a graph, find an isomorphism with one of the canonical graphs from\n",
    "    'graphlet_list'.\n",
    "    Return index of the corresponding graph from 'graphlet_list' and a\n",
    "    match dictionary.\n",
    "    The match dictionary has format {u_i: v_i}, 'u_i' are nodes from 'graph'\n",
    "    and 'v_i' are nodes from canonical graph.\n",
    "    Helper function for 'prob_functions' for unordered method.\n",
    "    \"\"\"\n",
    "    nodes = graph.nodes()\n",
    "    n = len(nodes)\n",
    "    if n == 1:\n",
    "        # trivial graph: just send it to zero!\n",
    "        return (0, {u: 0 for u in nodes})\n",
    "    if n == 2:\n",
    "        # 2-path graph: both nodes are equal, pick a random isomorphism\n",
    "        return (0, {u: i for i, u in enumerate(nodes)})\n",
    "    if n == 3:\n",
    "        if graph.number_of_edges() == 2:\n",
    "            # wedge-graph: find root, other two are arbitrary\n",
    "            u0 = next((node for node in nodes if graph.degree(node) == 2))\n",
    "            (u1, u2) = (node for node in graph.neighbors(u0))\n",
    "            return (0, {u0: 0, u1: 1, u2: 2})\n",
    "        if graph.number_of_edges() == 3:\n",
    "            # triangle: all three are arbitrary\n",
    "            return (1, {u: i for i, u in enumerate(nodes)})\n",
    "    if n == 4:\n",
    "        e_num = graph.number_of_edges()\n",
    "        max_degree = max((graph.degree(node) for node in nodes))\n",
    "        if e_num == 3 and max_degree == 3:\n",
    "            u3 = next((node for node in nodes if graph.degree(node) == 3))\n",
    "            (u0, u1, u2) = tuple(graph.neighbors(u3))\n",
    "            return (0, {u0: 0, u1: 1, u2: 2, u3: 3})\n",
    "        if e_num == 3 and max_degree == 2:\n",
    "            (u0, u1) = (node for node in nodes if graph.degree(node) == 2)\n",
    "            u2 = next((node for node in graph.neighbors(u1) if node != u0))\n",
    "            u3 = next((node for node in graph.neighbors(u0) if node != u1))\n",
    "            return (1, {u0: 0, u1: 1, u2: 2, u3: 3})\n",
    "        if e_num == 4 and max_degree == 3:\n",
    "            u3 = next((node for node in nodes if graph.degree(node) == 3))\n",
    "            (u1, u2) = (node for node in nodes if graph.degree(node) == 2)\n",
    "            u0 = next((node for node in nodes if graph.degree(node) == 1))\n",
    "            return (2, {u0: 0, u1: 1, u2: 2, u3: 3})\n",
    "        if e_num == 4 and max_degree == 2:\n",
    "            u0 = next((node for node in nodes))\n",
    "            (u1, u3) = tuple(graph.neighbors(u0))\n",
    "            u2 = next((node for node in graph.neighbors(u1) if node != u0))\n",
    "            return (3, {u0: 0, u1: 1, u2: 2, u3: 3})\n",
    "        if e_num == 5:\n",
    "            (u0, u2) = (node for node in nodes if graph.degree(node) == 3)\n",
    "            (u1, u3) = (node for node in nodes if graph.degree(node) == 2)\n",
    "            return (4, {u0: 0, u1: 1, u2: 2, u3: 3})\n",
    "        if e_num == 6:\n",
    "            (u0, u1, u2, u3) = tuple(nodes)\n",
    "            return (5, {u0: 0, u1: 1, u2: 2, u3: 3})\n",
    "        raise ValueError(\"wrong graphlet format\")\n",
    "\n",
    "    # Improve matching procedure here for n>4.\n",
    "    for (i, graph_) in enumerate(graphlet_list):\n",
    "        graph_matcher = iso.GraphMatcher(graph, graph_)\n",
    "        if graph_matcher.is_isomorphic():\n",
    "            break\n",
    "    #assert graph_id[1].is_isomorphic()\n",
    "    return (i, graph_matcher.mapping)\n",
    "\n",
    "def get_graphlet_list(k):\n",
    "    \"\"\"\n",
    "    Generate list of all graphlets of size 'k'.\n",
    "    List is taken from graph_atlas of networkx.\n",
    "    \"\"\"\n",
    "    from networkx.generators.atlas import graph_atlas_g\n",
    "    assert k > 0\n",
    "    atlas = graph_atlas_g()[1:]\n",
    "    graphlet_list = []\n",
    "    for graph in atlas:\n",
    "        n = graph.number_of_nodes()\n",
    "        if n < k:\n",
    "            continue\n",
    "        if n > k:\n",
    "            break\n",
    "        if nx.is_connected(graph):\n",
    "            graphlet_list.append(graph)\n",
    "    return graphlet_list\n",
    "\n",
    "def nxgraph_to_nagraph(nxgraph):\n",
    "    return na.Graph(number_of_vertices = graphlet_size, \n",
    "                    directed = False,\n",
    "                    adjacency_dict = { n: list(nbrdict.keys()) \n",
    "                                       for n, nbrdict in nxgraph.adjacency() }\n",
    "                    )\n",
    "\n",
    "graphlet_size = 3\n",
    "num_graphs = 100\n",
    "random_nx_graphs = [ nx.gnp_random_graph(graphlet_size, 0.4) for i in range(num_graphs) ]\n",
    "random_na_graphs = [ nxgraph_to_nagraph(graph) for graph in random_nx_graphs ]\n",
    "\n",
    "graphlet_list = get_graphlet_list(graphlet_size)\n",
    "na_graphlet_list = [ nxgraph_to_nagraph(graph) for graph in random_nx_graphs ]"
   ]
  },
  {
   "cell_type": "code",
   "execution_count": 39,
   "metadata": {},
   "outputs": [
    {
     "ename": "SyntaxError",
     "evalue": "invalid syntax (<ipython-input-39-d71aa03aac5d>, line 1)",
     "output_type": "error",
     "traceback": [
      "\u001b[0;36m  File \u001b[0;32m\"<ipython-input-39-d71aa03aac5d>\"\u001b[0;36m, line \u001b[0;32m1\u001b[0m\n\u001b[0;31m    5!\u001b[0m\n\u001b[0m     ^\u001b[0m\n\u001b[0;31mSyntaxError\u001b[0m\u001b[0;31m:\u001b[0m invalid syntax\n"
     ]
    }
   ],
   "source": []
  },
  {
   "cell_type": "code",
   "execution_count": 34,
   "metadata": {},
   "outputs": [
    {
     "name": "stdout",
     "output_type": "stream",
     "text": [
      "4.36 ms ± 227 µs per loop (mean ± std. dev. of 7 runs, 100 loops each)\n"
     ]
    }
   ],
   "source": [
    "%%timeit\n",
    "nx_types = [ find_type_match(graph, graphlet_list) for graph in random_nx_graphs ]"
   ]
  },
  {
   "cell_type": "code",
   "execution_count": null,
   "metadata": {},
   "outputs": [],
   "source": []
  }
 ],
 "metadata": {
  "kernelspec": {
   "display_name": "GraphletCount",
   "language": "python",
   "name": "graphletcount"
  },
  "language_info": {
   "codemirror_mode": {
    "name": "ipython",
    "version": 3
   },
   "file_extension": ".py",
   "mimetype": "text/x-python",
   "name": "python",
   "nbconvert_exporter": "python",
   "pygments_lexer": "ipython3",
   "version": "3.7.0"
  }
 },
 "nbformat": 4,
 "nbformat_minor": 2
}
