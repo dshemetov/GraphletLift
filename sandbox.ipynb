{
 "cells": [
  {
   "cell_type": "code",
   "execution_count": 1,
   "metadata": {},
   "outputs": [],
   "source": [
    "import networkx as nx\n",
    "import pynauty as na\n",
    "import networkx.algorithms.isomorphism as iso\n",
    "import matplotlib.pyplot as plt\n",
    "import random\n",
    "import lift as lt\n",
    "%matplotlib inline"
   ]
  },
  {
   "cell_type": "code",
   "execution_count": 3,
   "metadata": {},
   "outputs": [],
   "source": [
    "lift = lt.Lift(nx.star_graph(4), 5)"
   ]
  },
  {
   "cell_type": "code",
   "execution_count": 49,
   "metadata": {},
   "outputs": [
    {
     "data": {
      "text/plain": [
       "4"
      ]
     },
     "execution_count": 49,
     "metadata": {},
     "output_type": "execute_result"
    }
   ],
   "source": [
    "lt.sample_vertex(lift.graph, lift.vertex_distribution, 50)"
   ]
  },
  {
   "cell_type": "code",
   "execution_count": 58,
   "metadata": {},
   "outputs": [
    {
     "data": {
      "text/plain": [
       "(0, {1: 0, 0: 4, 2: 1, 3: 2, 4: 3})"
      ]
     },
     "execution_count": 58,
     "metadata": {},
     "output_type": "execute_result"
    }
   ],
   "source": [
    "graph_nodes = lift.sample_unordered_lift(lt.sample_vertex(lift.graph, lift.vertex_distribution, 50), 50)\n",
    "graph = lt.get_subgraph(lift.graph, graph_nodes)\n",
    "lt.find_type_match(graph, lift.nx_graphlet_dict, lift.na_graphlet_dict)"
   ]
  },
  {
   "cell_type": "code",
   "execution_count": 63,
   "metadata": {},
   "outputs": [
    {
     "name": "stderr",
     "output_type": "stream",
     "text": [
      "/Users/dmitron/.local/share/virtualenvs/LiftSRW-N3FXcLe1/lib/python3.7/site-packages/networkx/drawing/nx_pylab.py:611: MatplotlibDeprecationWarning: isinstance(..., numbers.Number)\n",
      "  if cb.is_numlike(alpha):\n"
     ]
    },
    {
     "data": {
      "image/png": "[encoded data removed]",
      "text/plain": [
       "<Figure size 432x288 with 1 Axes>"
      ]
     },
     "metadata": {},
     "output_type": "display_data"
    }
   ],
   "source": [
    "nx.draw(lift.nx_graphlet_dict[5][0], with_labels=True)"
   ]
  },
  {
   "cell_type": "code",
   "execution_count": 61,
   "metadata": {},
   "outputs": [
    {
     "name": "stderr",
     "output_type": "stream",
     "text": [
      "/Users/dmitron/.local/share/virtualenvs/LiftSRW-N3FXcLe1/lib/python3.7/site-packages/networkx/drawing/nx_pylab.py:611: MatplotlibDeprecationWarning: isinstance(..., numbers.Number)\n",
      "  if cb.is_numlike(alpha):\n"
     ]
    },
    {
     "data": {
      "image/png": "[encoded data removed]",
      "text/plain": [
       "<Figure size 432x288 with 1 Axes>"
      ]
     },
     "metadata": {},
     "output_type": "display_data"
    }
   ],
   "source": [
    "nx.draw(graph, with_labels=True)"
   ]
  },
  {
   "cell_type": "code",
   "execution_count": 16,
   "metadata": {},
   "outputs": [
    {
     "data": {
      "text/plain": [
       "\u001b[0;31mSignature:\u001b[0m \u001b[0mf\u001b[0m\u001b[0;34m(\u001b[0m\u001b[0mx_0\u001b[0m\u001b[0;34m,\u001b[0m \u001b[0mx_1\u001b[0m\u001b[0;34m,\u001b[0m \u001b[0mx_2\u001b[0m\u001b[0;34m)\u001b[0m\u001b[0;34m\u001b[0m\u001b[0m\n",
       "\u001b[0;31mDocstring:\u001b[0m\n",
       "Created with lambdify. Signature:\n",
       "\n",
       "func(x_0, x_1, x_2)\n",
       "\n",
       "Expression:\n",
       "\n",
       "1/(4*(x_0 + x_2 - 2)) + 1/(4*(x_0 + x_1 - 2))\n",
       "\n",
       "Source code:\n",
       "\n",
       "def _lambdifygenerated(x_0, x_1, x_2):\n",
       "    return ((1/4)/(x_0 + x_2 - 2) + (1/4)/(x_0 + x_1 - 2))\n",
       "\n",
       "\n",
       "Imported modules:\n",
       "\u001b[0;31mFile:\u001b[0m      ~/Documents/GradSchool/GraphletLift/code/LiftSRW/<lambdifygenerated-32>\n",
       "\u001b[0;31mType:\u001b[0m      function\n"
      ]
     },
     "metadata": {},
     "output_type": "display_data"
    }
   ],
   "source": [
    "lift = lt.Lift(nx.star_graph(4), 3)\n",
    "#nx.draw(lift.nx_graphlet_dict[3][0])\n",
    "f = lift.prob_functions[0]\n",
    "f?"
   ]
  },
  {
   "cell_type": "code",
   "execution_count": 19,
   "metadata": {},
   "outputs": [
    {
     "name": "stdout",
     "output_type": "stream",
     "text": [
      "[4, 1, 1]\n",
      "[4, 1, 1]\n"
     ]
    }
   ],
   "source": [
    "for graph in lift.nx_graphlet_dict[3]:\n",
    "    (ind, match) = lt.find_type_match(graph, lift.nx_graphlet_dict, lift.na_graphlet_dict)\n",
    "    print(lt.get_degree_list(nx.star_graph(4), match))\n"
   ]
  },
  {
   "cell_type": "code",
   "execution_count": 20,
   "metadata": {},
   "outputs": [
    {
     "data": {
      "text/plain": [
       "0.16666666666666666"
      ]
     },
     "execution_count": 20,
     "metadata": {},
     "output_type": "execute_result"
    }
   ],
   "source": [
    "f(*[4,1,1])"
   ]
  },
  {
   "cell_type": "code",
   "execution_count": 24,
   "metadata": {},
   "outputs": [
    {
     "data": {
      "text/plain": [
       "{'wedge': 6, 'triangle': 0}"
      ]
     },
     "execution_count": 24,
     "metadata": {},
     "output_type": "execute_result"
    }
   ],
   "source": [
    "lift.graphlet_count(50)"
   ]
  },
  {
   "cell_type": "markdown",
   "metadata": {},
   "source": [
    "### Initial tests for pynauty isomorphism."
   ]
  },
  {
   "cell_type": "code",
   "execution_count": 2,
   "metadata": {},
   "outputs": [
    {
     "name": "stdout",
     "output_type": "stream",
     "text": [
      "g = h?  True g = i?  True g = h?  False\n",
      "Are the isomorphisms the same?  True\n"
     ]
    }
   ],
   "source": [
    "g = na.Graph(number_of_vertices=8, directed=False,\n",
    "          adjacency_dict = { 0: [1,2],\n",
    "                             1: [0,4],\n",
    "                             2: [0,3,4,5],\n",
    "                             3: [2,4,5,6],\n",
    "                             4: [1,2,3,5],\n",
    "                             5: [4,2,3,7],\n",
    "                             6: [3,7],\n",
    "                             7: [5,6] })\n",
    "\n",
    "h = na.Graph(number_of_vertices=8, directed=False,\n",
    "          adjacency_dict = { 0: [1,2],\n",
    "                             1: [0,4],\n",
    "                             2: [0,3,4,5],\n",
    "                             3: [2,4,5,7],\n",
    "                             4: [1,2,3,5],\n",
    "                             5: [4,2,3,6],\n",
    "                             6: [5,7],\n",
    "                             7: [3,6] })\n",
    "\n",
    "i = na.Graph(number_of_vertices=8, directed=False,\n",
    "          adjacency_dict = { 0: [2,4,3,6],\n",
    "                             1: [5,4],\n",
    "                             2: [0,3,4,5],\n",
    "                             3: [0,2,4,7],\n",
    "                             4: [0,1,2,3],\n",
    "                             5: [1,2],\n",
    "                             6: [0,7],\n",
    "                             7: [3,6] })\n",
    "\n",
    "j = na.Graph(number_of_vertices=8, directed=False,\n",
    "          adjacency_dict = { 0: [1,2],\n",
    "                             1: [0,3],\n",
    "                             2: [0,3,4,5],\n",
    "                             3: [1,2,4,5],\n",
    "                             4: [2,3,5,6],\n",
    "                             5: [2,3,4,5,6,7],\n",
    "                             6: [4,5,7],\n",
    "                             7: [5,6] })\n",
    "\n",
    "print(\"g = h? \", na.certificate(g) == na.certificate(h), \n",
    "      \"g = i? \", na.certificate(g) == na.certificate(i), \n",
    "      \"g = h? \", na.certificate(g) == na.certificate(j))\n",
    "\n",
    "num_graphs = 4\n",
    "random_nx_graphs = [nx.gnp_random_graph(8,0.4) for i in range(num_graphs)]\n",
    "random_na_graphs = [na.Graph(number_of_vertices = 8, \n",
    "                             directed = False,\n",
    "                             adjacency_dict = {n: list(nbrdict.keys()) \n",
    "                                               for n, nbrdict in graph.adjacency()}) \n",
    "                    for graph in random_nx_graphs]\n",
    "\n",
    "nx_iso = [nx.is_isomorphic(random_nx_graphs[i],random_nx_graphs[j]) \n",
    "          for i in range(num_graphs) for j in range(i,num_graphs)]\n",
    "na_iso = [na.certificate(random_na_graphs[i]) == na.certificate(random_na_graphs[j]) \n",
    "          for i in range(num_graphs) \n",
    "          for j in range(i,num_graphs)]\n",
    "\n",
    "print(\"Are the isomorphisms the same? \", nx_iso == na_iso)"
   ]
  },
  {
   "cell_type": "markdown",
   "metadata": {},
   "source": [
    "### Here we see a 5x speed gain with pynauty."
   ]
  },
  {
   "cell_type": "code",
   "execution_count": 101,
   "metadata": {},
   "outputs": [],
   "source": [
    "num_graphs = 1000\n",
    "graph_size = 3\n",
    "random_nx_graphs = [ nx.gnp_random_graph(graph_size,0.6) for i in range(num_graphs) ]\n",
    "random_na_graphs = [ na.Graph(number_of_vertices = graph_size, directed = False,\n",
    "                              adjacency_dict = { n: list(nbrdict.keys()) for n, nbrdict in graph.adjacency() }\n",
    "                              ) for graph in random_nx_graphs\n",
    "                   ]"
   ]
  },
  {
   "cell_type": "code",
   "execution_count": 102,
   "metadata": {},
   "outputs": [
    {
     "name": "stdout",
     "output_type": "stream",
     "text": [
      "CPU times: user 32.1 s, sys: 186 ms, total: 32.3 s\n",
      "Wall time: 32.9 s\n"
     ]
    }
   ],
   "source": [
    "%%time\n",
    "nx_iso = [nx.is_isomorphic(random_nx_graphs[i],random_nx_graphs[j]) \n",
    "          for i in range(num_graphs) \n",
    "          for j in range(i,num_graphs)]"
   ]
  },
  {
   "cell_type": "code",
   "execution_count": 103,
   "metadata": {},
   "outputs": [
    {
     "name": "stdout",
     "output_type": "stream",
     "text": [
      "CPU times: user 3.84 s, sys: 32.3 ms, total: 3.87 s\n",
      "Wall time: 4.02 s\n"
     ]
    }
   ],
   "source": [
    "%%time\n",
    "na_iso = [na.certificate(random_na_graphs[i]) == na.certificate(random_na_graphs[j]) \n",
    "          for i in range(num_graphs) \n",
    "          for j in range(i,num_graphs)]"
   ]
  },
  {
   "cell_type": "markdown",
   "metadata": {},
   "source": [
    "### Here we show that simply using pynauty to do isomorphism gets a 4x speedup over Kirill's code."
   ]
  },
  {
   "cell_type": "code",
   "execution_count": 3,
   "metadata": {},
   "outputs": [],
   "source": [
    "def find_type_match(graph, graphlet_list):\n",
    "    \"\"\"\n",
    "    Given a graph, find an isomorphism with one of the canonical graphs from\n",
    "    'graphlet_list'.\n",
    "    Return index of the corresponding graph from 'graphlet_list' and a\n",
    "    match dictionary.\n",
    "    The match dictionary has format {u_i: v_i}, 'u_i' are nodes from 'graph'\n",
    "    and 'v_i' are nodes from canonical graph.\n",
    "    Helper function for 'prob_functions' for unordered method.\n",
    "    \"\"\"\n",
    "    nodes = graph.nodes()\n",
    "    n = len(nodes)\n",
    "    if n == 1:\n",
    "        # trivial graph: just send it to zero!\n",
    "        return (0, {u: 0 for u in nodes})\n",
    "    if n == 2:\n",
    "        # 2-path graph: both nodes are equal, pick a random isomorphism\n",
    "        return (0, {u: i for i, u in enumerate(nodes)})\n",
    "    if n == 3:\n",
    "        if graph.number_of_edges() == 2:\n",
    "            # wedge-graph: find root, other two are arbitrary\n",
    "            u0 = next((node for node in nodes if graph.degree(node) == 2))\n",
    "            (u1, u2) = (node for node in graph.neighbors(u0))\n",
    "            return (0, {u0: 0, u1: 1, u2: 2})\n",
    "        if graph.number_of_edges() == 3:\n",
    "            # triangle: all three are arbitrary\n",
    "            return (1, {u: i for i, u in enumerate(nodes)})\n",
    "    if n == 4:\n",
    "        e_num = graph.number_of_edges()\n",
    "        max_degree = max((graph.degree(node) for node in nodes))\n",
    "        if e_num == 3 and max_degree == 3:\n",
    "            u3 = next((node for node in nodes if graph.degree(node) == 3))\n",
    "            (u0, u1, u2) = tuple(graph.neighbors(u3))\n",
    "            return (0, {u0: 0, u1: 1, u2: 2, u3: 3})\n",
    "        if e_num == 3 and max_degree == 2:\n",
    "            (u0, u1) = (node for node in nodes if graph.degree(node) == 2)\n",
    "            u2 = next((node for node in graph.neighbors(u1) if node != u0))\n",
    "            u3 = next((node for node in graph.neighbors(u0) if node != u1))\n",
    "            return (1, {u0: 0, u1: 1, u2: 2, u3: 3})\n",
    "        if e_num == 4 and max_degree == 3:\n",
    "            u3 = next((node for node in nodes if graph.degree(node) == 3))\n",
    "            (u1, u2) = (node for node in nodes if graph.degree(node) == 2)\n",
    "            u0 = next((node for node in nodes if graph.degree(node) == 1))\n",
    "            return (2, {u0: 0, u1: 1, u2: 2, u3: 3})\n",
    "        if e_num == 4 and max_degree == 2:\n",
    "            u0 = next((node for node in nodes))\n",
    "            (u1, u3) = tuple(graph.neighbors(u0))\n",
    "            u2 = next((node for node in graph.neighbors(u1) if node != u0))\n",
    "            return (3, {u0: 0, u1: 1, u2: 2, u3: 3})\n",
    "        if e_num == 5:\n",
    "            (u0, u2) = (node for node in nodes if graph.degree(node) == 3)\n",
    "            (u1, u3) = (node for node in nodes if graph.degree(node) == 2)\n",
    "            return (4, {u0: 0, u1: 1, u2: 2, u3: 3})\n",
    "        if e_num == 6:\n",
    "            (u0, u1, u2, u3) = tuple(nodes)\n",
    "            return (5, {u0: 0, u1: 1, u2: 2, u3: 3})\n",
    "        raise ValueError(\"wrong graphlet format\")\n",
    "\n",
    "    # Improve matching procedure here for n>4.\n",
    "    for (i, graph_) in enumerate(graphlet_list):\n",
    "        graph_matcher = iso.GraphMatcher(graph, graph_)\n",
    "        if graph_matcher.is_isomorphic():\n",
    "            break\n",
    "    #assert graph_id[1].is_isomorphic()\n",
    "    return (i, graph_matcher.mapping)\n",
    "\n",
    "def get_graphlet_list(k):\n",
    "    \"\"\"\n",
    "    Generate list of all graphlets of size 'k'.\n",
    "    List is taken from graph_atlas of networkx.\n",
    "    \"\"\"\n",
    "    from networkx.generators.atlas import graph_atlas_g\n",
    "    assert k > 0\n",
    "    atlas = graph_atlas_g()[1:]\n",
    "    graphlet_list = []\n",
    "    for graph in atlas:\n",
    "        n = graph.number_of_nodes()\n",
    "        if n < k:\n",
    "            continue\n",
    "        if n > k:\n",
    "            break\n",
    "        if nx.is_connected(graph):\n",
    "            graphlet_list.append(graph)\n",
    "    return graphlet_list\n",
    "\n",
    "def nxgraph_to_nagraph(nxgraph):\n",
    "    return na.Graph(number_of_vertices = graphlet_size, \n",
    "                    directed = False,\n",
    "                    adjacency_dict = { n: list(nbrdict.keys()) \n",
    "                                       for n, nbrdict in nxgraph.adjacency() }\n",
    "                    )\n",
    "\n",
    "def find_type_match2(graph, na_graphlet_list, nx_graphlet_list):\n",
    "    import networkx.algorithms.isomorphism as iso\n",
    "    \n",
    "    for i, graph2 in enumerate(na_graphlet_list):\n",
    "        if na.certificate(graph) == na.certificate(graph2):\n",
    "            break\n",
    "    \n",
    "    G1 = nx.from_dict_of_lists(graph.adjacency_dict)\n",
    "    G2 = nx_graphlet_list[i]\n",
    "    matcher = iso.GraphMatcher(G1, G2)\n",
    "    mapping = next(matcher.match())\n",
    "    return (i, mapping)"
   ]
  },
  {
   "cell_type": "code",
   "execution_count": 117,
   "metadata": {},
   "outputs": [],
   "source": [
    "graphlet_size = 5\n",
    "nx_graphlet_list = get_graphlet_list(graphlet_size)\n",
    "na_graphlet_list = [ nxgraph_to_nagraph(graph) for graph in nx_graphlet_list ]\n",
    "num_graphs = 500\n",
    "random_nx_graphs = [ random.choice(nx_graphlet_list) for i in range(num_graphs) ]\n",
    "random_na_graphs = [ nxgraph_to_nagraph(graph) for graph in random_nx_graphs ]"
   ]
  },
  {
   "cell_type": "code",
   "execution_count": 118,
   "metadata": {},
   "outputs": [
    {
     "name": "stdout",
     "output_type": "stream",
     "text": [
      "CPU times: user 489 ms, sys: 8.57 ms, total: 498 ms\n",
      "Wall time: 532 ms\n"
     ]
    }
   ],
   "source": [
    "%%time\n",
    "nx_types = [ find_type_match(graph, nx_graphlet_list) for graph in random_nx_graphs ]"
   ]
  },
  {
   "cell_type": "code",
   "execution_count": 119,
   "metadata": {},
   "outputs": [
    {
     "name": "stdout",
     "output_type": "stream",
     "text": [
      "CPU times: user 267 ms, sys: 5.12 ms, total: 272 ms\n",
      "Wall time: 292 ms\n"
     ]
    }
   ],
   "source": [
    "%%time\n",
    "na_types = [ find_type_match2(graph, na_graphlet_list, nx_graphlet_list) for graph in random_na_graphs ]"
   ]
  },
  {
   "cell_type": "code",
   "execution_count": 97,
   "metadata": {},
   "outputs": [
    {
     "name": "stdout",
     "output_type": "stream",
     "text": [
      "True\n"
     ]
    }
   ],
   "source": [
    "for i, graph2 in enumerate(na_graphlet_list):\n",
    "    if na.certificate(random_na_graphs[0]) == na.certificate(graph2):\n",
    "        break\n",
    "G1 = nx.from_dict_of_lists(random_na_graphs[0].adjacency_dict)\n",
    "G2 = nx_graphlet_list[i]\n",
    "find_type_match2(random_na_graphs[0], na_graphlet_list, nx_graphlet_list)\n",
    "print(iso.is_isomorphic(G1, G2))"
   ]
  },
  {
   "cell_type": "code",
   "execution_count": 98,
   "metadata": {},
   "outputs": [
    {
     "data": {
      "image/png": "[encoded data removed]",
      "text/plain": [
       "<Figure size 432x288 with 1 Axes>"
      ]
     },
     "metadata": {},
     "output_type": "display_data"
    }
   ],
   "source": [
    "nx.draw(G1,with_labels=True)"
   ]
  },
  {
   "cell_type": "code",
   "execution_count": 99,
   "metadata": {},
   "outputs": [
    {
     "data": {
      "image/png": "[encoded data removed]",
      "text/plain": [
       "<Figure size 432x288 with 1 Axes>"
      ]
     },
     "metadata": {},
     "output_type": "display_data"
    }
   ],
   "source": [
    "nx.draw(G2,with_labels=True)"
   ]
  },
  {
   "cell_type": "markdown",
   "metadata": {},
   "source": [
    "# Creating a dictionary out of graph data."
   ]
  },
  {
   "cell_type": "code",
   "execution_count": 4,
   "metadata": {},
   "outputs": [],
   "source": [
    "def adjacency_to_nagraph(adjacency):\n",
    "    return na.Graph(number_of_vertices = len(adjacency.keys()),\n",
    "                    adjacency_dict = adjacency)\n",
    "\n",
    "def nxgraph_to_relabeled_nagraph(graph):\n",
    "    node_mapping = { node: i for (i, node) in enumerate(graph.nodes()) }\n",
    "    graph_dict_mapped = { node_mapping[node] : [ node_mapping[node2] \n",
    "                                                 for node2 in graph.neighbors(node) ] \n",
    "                          for node in graph.nodes() }\n",
    "    return adjacency_to_nagraph(graph_dict_mapped)"
   ]
  },
  {
   "cell_type": "code",
   "execution_count": null,
   "metadata": {},
   "outputs": [],
   "source": [
    "graph = nx.read_edgelist(\n",
    "                'Graphs/bio-celegansneural.mtx',\n",
    "                create_using=nx.Graph(), data=(('weight', float),))\n",
    "\n",
    "na_graph = nxgraph_to_relabeled_nagraph(graph)"
   ]
  },
  {
   "cell_type": "markdown",
   "metadata": {},
   "source": [
    "# Test networkx subgraphing."
   ]
  },
  {
   "cell_type": "code",
   "execution_count": 2,
   "metadata": {},
   "outputs": [],
   "source": [
    "def remove_self_loops(graph):\n",
    "    \"\"\"\n",
    "    Removes self loops from a graph.\n",
    "\n",
    "    Trusted - DS.\n",
    "    \"\"\"\n",
    "    for node in graph.nodes():\n",
    "        if graph.has_edge(node, node):\n",
    "            graph.remove_edge(node, node)\n",
    "\n",
    "def get_subgraph(graph, nodes):\n",
    "    \"\"\"\n",
    "    Manually constructs the induced subgraph given a list of nodes from the full graph.\n",
    "    Returns a new networkx graph object.\n",
    "    Helper function for shotgun method and probability functions in the unordered method.\n",
    "\n",
    "    NOTE:\n",
    "        We use this because the networkx subgraph method is very slow.\n",
    "    \"\"\"\n",
    "    list_nodes = list(nodes)\n",
    "    subgraph = nx.Graph()\n",
    "    subgraph.add_nodes_from(nodes)\n",
    "    for i, node in enumerate(list_nodes):\n",
    "        neighbors = list(graph.neighbors(node))\n",
    "        for j in range(i+1, len(list_nodes)):\n",
    "            if list_nodes[j] in neighbors:\n",
    "                subgraph.add_edge(node, list_nodes[j])\n",
    "    return subgraph"
   ]
  },
  {
   "cell_type": "markdown",
   "metadata": {},
   "source": [
    "### Let's test the equivalence of Kirill's code and NetworkX subgraph."
   ]
  },
  {
   "cell_type": "code",
   "execution_count": 6,
   "metadata": {},
   "outputs": [],
   "source": [
    "graph = nx.read_edgelist(\n",
    "                'Graphs/misc-fullb.mtx',\n",
    "                create_using=nx.Graph(), data=(('weight', float),))\n",
    "remove_self_loops(graph)\n",
    "\n",
    "n = 1000\n",
    "k = 5\n",
    "lift_unordered = lt.Lift(graph,k)\n",
    "vertex_sets = [ lift_unordered.sample_graphlet(lift_unordered.sample_vertex(5),5) for j in range(n) ]"
   ]
  },
  {
   "cell_type": "code",
   "execution_count": 7,
   "metadata": {},
   "outputs": [],
   "source": [
    "nx_subg = [ nx.to_dict_of_dicts(graph.subgraph(vertex_set)) for vertex_set in vertex_sets ]\n",
    "k_subg = [ nx.to_dict_of_dicts(get_subgraph(graph, vertex_set)) for vertex_set in vertex_sets ]"
   ]
  },
  {
   "cell_type": "code",
   "execution_count": 8,
   "metadata": {},
   "outputs": [
    {
     "name": "stdout",
     "output_type": "stream",
     "text": [
      "True\n",
      "{'7339': {'7342': {}, '7347': {}, '22098': {}, '174220': {}}, '7342': {'7339': {}, '7347': {}, '22098': {}, '174220': {}}, '174220': {'7339': {}, '7342': {}}, '7347': {'7339': {}, '7342': {}, '22098': {}}, '22098': {'7339': {}, '7342': {}, '7347': {}}}\n",
      "{'7339': {'7342': {}, '174220': {}, '7347': {}, '22098': {}}, '7342': {'7339': {}, '174220': {}, '7347': {}, '22098': {}}, '174220': {'7339': {}, '7342': {}}, '7347': {'7339': {}, '7342': {}, '22098': {}}, '22098': {'7339': {}, '7342': {}, '7347': {}}}\n",
      "True\n"
     ]
    }
   ],
   "source": [
    "print(nx_subg[0] == k_subg[0])\n",
    "print(nx_subg[0])\n",
    "print(k_subg[0])\n",
    "print(all([ nx_subg[i] == k_subg[i] for i in range(n) ]))"
   ]
  },
  {
   "cell_type": "markdown",
   "metadata": {},
   "source": [
    "### Now let's test the timing. (Kirill's claim that subgraph is slow doesn't hold up.)\n",
    "Getting contradictory results here."
   ]
  },
  {
   "cell_type": "code",
   "execution_count": 36,
   "metadata": {},
   "outputs": [
    {
     "name": "stdout",
     "output_type": "stream",
     "text": [
      "33.8 ms ± 11.2 ms per loop (mean ± std. dev. of 7 runs, 10 loops each)\n"
     ]
    }
   ],
   "source": [
    "%%timeit\n",
    "nx_subg = [ graph.subgraph(vertex_set) for vertex_set in vertex_sets ]"
   ]
  },
  {
   "cell_type": "code",
   "execution_count": 37,
   "metadata": {},
   "outputs": [
    {
     "name": "stdout",
     "output_type": "stream",
     "text": [
      "113 ms ± 42.3 ms per loop (mean ± std. dev. of 7 runs, 1 loop each)\n"
     ]
    }
   ],
   "source": [
    "%%timeit\n",
    "k_subg = [ get_subgraph(graph, vertex_set) for vertex_set in vertex_sets ]"
   ]
  },
  {
   "cell_type": "code",
   "execution_count": 38,
   "metadata": {},
   "outputs": [],
   "source": [
    "graph = nx.read_edgelist(\n",
    "                'Graphs/misc-polblogs.mtx',\n",
    "                create_using=nx.Graph(), data=(('weight', float),))\n",
    "remove_self_loops(graph)\n",
    "\n",
    "n = 20\n",
    "k = 5\n",
    "lift_unordered = lt.Lift(graph,k)\n",
    "vertex_sets = [ lift_unordered.sample_graphlet(lift_unordered.sample_vertex(5),5) for j in range(n) ]"
   ]
  },
  {
   "cell_type": "code",
   "execution_count": 39,
   "metadata": {},
   "outputs": [
    {
     "name": "stdout",
     "output_type": "stream",
     "text": [
      "219 µs ± 30.7 µs per loop (mean ± std. dev. of 7 runs, 1000 loops each)\n"
     ]
    }
   ],
   "source": [
    "%%timeit\n",
    "nx_subg = [ graph.subgraph(vertex_set) for vertex_set in vertex_sets ]"
   ]
  },
  {
   "cell_type": "code",
   "execution_count": 40,
   "metadata": {},
   "outputs": [
    {
     "name": "stdout",
     "output_type": "stream",
     "text": [
      "1.1 ms ± 105 µs per loop (mean ± std. dev. of 7 runs, 100 loops each)\n"
     ]
    }
   ],
   "source": [
    "%%timeit\n",
    "k_subg = [ get_subgraph(graph, vertex_set) for vertex_set in vertex_sets ]"
   ]
  },
  {
   "cell_type": "markdown",
   "metadata": {},
   "source": [
    "### Testing degree lists."
   ]
  },
  {
   "cell_type": "code",
   "execution_count": 3,
   "metadata": {},
   "outputs": [],
   "source": [
    "graph = nx.read_edgelist(\n",
    "                'Graphs/misc-polblogs.mtx',\n",
    "                create_using=nx.Graph(), data=(('weight', float),))\n",
    "remove_self_loops(graph)\n",
    "\n",
    "n = 20\n",
    "k = 5\n",
    "lift_unordered = lt.Lift(graph,k)\n",
    "vertex_sets = [ lift_unordered.sample_graphlet(lift_unordered.sample_vertex(5),5) for j in range(n) ]"
   ]
  },
  {
   "cell_type": "code",
   "execution_count": 5,
   "metadata": {},
   "outputs": [
    {
     "ename": "AttributeError",
     "evalue": "'set' object has no attribute 'items'",
     "output_type": "error",
     "traceback": [
      "\u001b[0;31m---------------------------------------------------------------------------\u001b[0m",
      "\u001b[0;31mAttributeError\u001b[0m                            Traceback (most recent call last)",
      "\u001b[0;32m<ipython-input-5-2250b48e84f2>\u001b[0m in \u001b[0;36m<module>\u001b[0;34m\u001b[0m\n\u001b[0;32m----> 1\u001b[0;31m \u001b[0mlt\u001b[0m\u001b[0;34m.\u001b[0m\u001b[0mget_degree_list\u001b[0m\u001b[0;34m(\u001b[0m\u001b[0mgraph\u001b[0m\u001b[0;34m,\u001b[0m\u001b[0mvertex_sets\u001b[0m\u001b[0;34m[\u001b[0m\u001b[0;36m0\u001b[0m\u001b[0;34m]\u001b[0m\u001b[0;34m)\u001b[0m\u001b[0;34m\u001b[0m\u001b[0m\n\u001b[0m",
      "\u001b[0;32m~/Documents/GradSchool/GraphletLift/code/LiftSRW/lift.py\u001b[0m in \u001b[0;36mget_degree_list\u001b[0;34m(graph, graphlet_match)\u001b[0m\n\u001b[1;32m    244\u001b[0m \u001b[0;34m\u001b[0m\u001b[0m\n\u001b[1;32m    245\u001b[0m \u001b[0;32mdef\u001b[0m \u001b[0mget_degree_list\u001b[0m\u001b[0;34m(\u001b[0m\u001b[0mgraph\u001b[0m\u001b[0;34m,\u001b[0m \u001b[0mgraphlet_match\u001b[0m\u001b[0;34m)\u001b[0m\u001b[0;34m:\u001b[0m\u001b[0;34m\u001b[0m\u001b[0m\n\u001b[0;32m--> 246\u001b[0;31m     \u001b[0minvert_match\u001b[0m \u001b[0;34m=\u001b[0m \u001b[0;34m{\u001b[0m\u001b[0mj\u001b[0m\u001b[0;34m:\u001b[0m \u001b[0mi\u001b[0m \u001b[0;32mfor\u001b[0m \u001b[0mi\u001b[0m\u001b[0;34m,\u001b[0m \u001b[0mj\u001b[0m \u001b[0;32min\u001b[0m \u001b[0mgraphlet_match\u001b[0m\u001b[0;34m.\u001b[0m\u001b[0mitems\u001b[0m\u001b[0;34m(\u001b[0m\u001b[0;34m)\u001b[0m\u001b[0;34m}\u001b[0m\u001b[0;34m\u001b[0m\u001b[0m\n\u001b[0m\u001b[1;32m    247\u001b[0m     degree_list = [graph.degree(invert_match[key])\n\u001b[1;32m    248\u001b[0m                    for key in invert_match.keys()]\n",
      "\u001b[0;31mAttributeError\u001b[0m: 'set' object has no attribute 'items'"
     ]
    }
   ],
   "source": [
    "lt.get_degree_list(graph, vertex_sets[0])"
   ]
  },
  {
   "cell_type": "markdown",
   "metadata": {},
   "source": [
    "### The different results of the two methods to subgraph leads me to believe that there is difference in the networkx objects created by the two methods that don't show up when converting to a dict."
   ]
  },
  {
   "cell_type": "code",
   "execution_count": 59,
   "metadata": {},
   "outputs": [
    {
     "data": {
      "text/plain": [
       "EdgeView([('588', '514'), ('588', '296'), ('296', '535'), ('296', '1179'), ('1179', '535'), ('514', '535')])"
      ]
     },
     "execution_count": 59,
     "metadata": {},
     "output_type": "execute_result"
    }
   ],
   "source": [
    "i = 13\n",
    "nx_subg[i].edges()"
   ]
  },
  {
   "cell_type": "code",
   "execution_count": 60,
   "metadata": {},
   "outputs": [
    {
     "data": {
      "text/plain": [
       "EdgeView([('588', '296'), ('588', '514'), ('296', '1179'), ('296', '535'), ('1179', '535'), ('514', '535')])"
      ]
     },
     "execution_count": 60,
     "metadata": {},
     "output_type": "execute_result"
    }
   ],
   "source": [
    "k_subg[i].edges()"
   ]
  },
  {
   "cell_type": "markdown",
   "metadata": {},
   "source": [
    "### Here we test the path_graph wedge counts, which were breaking when I changed the subgraph code. I found that prob functions were getting different coefficients."
   ]
  },
  {
   "cell_type": "code",
   "execution_count": 19,
   "metadata": {},
   "outputs": [
    {
     "name": "stdout",
     "output_type": "stream",
     "text": [
      "2\n",
      "{0: 5283.733333333374, 1: 0}\n"
     ]
    }
   ],
   "source": [
    "lift_unordered_nx = lt.Lift(nx.path_graph(5), 3, subgraph_method=\"nx\")\n",
    "print(lift_unordered_nx.graphlet_count(3000)['wedge'])\n",
    "print(lift_unordered_nx.exp_counter)\n",
    "f_nx = lift_unordered_nx.prob_functions[0]"
   ]
  },
  {
   "cell_type": "code",
   "execution_count": 20,
   "metadata": {},
   "outputs": [
    {
     "data": {
      "image/png": "[encoded data removed]",
      "text/plain": [
       "<Figure size 432x288 with 1 Axes>"
      ]
     },
     "metadata": {},
     "output_type": "display_data"
    }
   ],
   "source": [
    "nx.draw(lift_unordered_nx.graphlet_list[3][0])"
   ]
  },
  {
   "cell_type": "code",
   "execution_count": 10,
   "metadata": {},
   "outputs": [
    {
     "data": {
      "text/plain": [
       "\u001b[0;31mSignature:\u001b[0m \u001b[0mf_nx\u001b[0m\u001b[0;34m(\u001b[0m\u001b[0mx_0\u001b[0m\u001b[0;34m,\u001b[0m \u001b[0mx_1\u001b[0m\u001b[0;34m,\u001b[0m \u001b[0mx_2\u001b[0m\u001b[0;34m)\u001b[0m\u001b[0;34m\u001b[0m\u001b[0m\n",
       "\u001b[0;31mDocstring:\u001b[0m\n",
       "Created with lambdify. Signature:\n",
       "\n",
       "func(x_0, x_1, x_2)\n",
       "\n",
       "Expression:\n",
       "\n",
       "1/(2*(x_1 + x_2 - 2)) + 1/(4*(x_0 + x_1 - 2))\n",
       "\n",
       "Source code:\n",
       "\n",
       "def _lambdifygenerated(x_0, x_1, x_2):\n",
       "    return ((1/2)/(x_1 + x_2 - 2) + (1/4)/(x_0 + x_1 - 2))\n",
       "\n",
       "\n",
       "Imported modules:\n",
       "\u001b[0;31mFile:\u001b[0m      ~/Documents/GradSchool/GraphletLift/code/LiftSRW/<lambdifygenerated-22>\n",
       "\u001b[0;31mType:\u001b[0m      function\n"
      ]
     },
     "metadata": {},
     "output_type": "display_data"
    }
   ],
   "source": [
    "f_nx?"
   ]
  },
  {
   "cell_type": "code",
   "execution_count": 21,
   "metadata": {},
   "outputs": [
    {
     "name": "stdout",
     "output_type": "stream",
     "text": [
      "3\n",
      "{0: 8982.666666666784, 1: 0}\n"
     ]
    }
   ],
   "source": [
    "lift_unordered_k = lt.Lift(nx.path_graph(5), 3, subgraph_method=\"k\")\n",
    "print(lift_unordered_k.graphlet_count(3000)['wedge'])\n",
    "print(lift_unordered_k.exp_counter)\n",
    "f_k = lift_unordered_k.prob_functions[0]"
   ]
  },
  {
   "cell_type": "code",
   "execution_count": 23,
   "metadata": {},
   "outputs": [
    {
     "data": {
      "image/png": "[encoded data removed]",
      "text/plain": [
       "<Figure size 432x288 with 1 Axes>"
      ]
     },
     "metadata": {},
     "output_type": "display_data"
    }
   ],
   "source": [
    "nx.draw(lift_unordered_k.graphlet_list[3][0])"
   ]
  },
  {
   "cell_type": "code",
   "execution_count": 12,
   "metadata": {},
   "outputs": [
    {
     "data": {
      "text/plain": [
       "\u001b[0;31mSignature:\u001b[0m \u001b[0mf_k\u001b[0m\u001b[0;34m(\u001b[0m\u001b[0mx_0\u001b[0m\u001b[0;34m,\u001b[0m \u001b[0mx_1\u001b[0m\u001b[0;34m,\u001b[0m \u001b[0mx_2\u001b[0m\u001b[0;34m)\u001b[0m\u001b[0;34m\u001b[0m\u001b[0m\n",
       "\u001b[0;31mDocstring:\u001b[0m\n",
       "Created with lambdify. Signature:\n",
       "\n",
       "func(x_0, x_1, x_2)\n",
       "\n",
       "Expression:\n",
       "\n",
       "1/(4*(x_0 + x_2 - 2)) + 1/(4*(x_0 + x_1 - 2))\n",
       "\n",
       "Source code:\n",
       "\n",
       "def _lambdifygenerated(x_0, x_1, x_2):\n",
       "    return ((1/4)/(x_0 + x_2 - 2) + (1/4)/(x_0 + x_1 - 2))\n",
       "\n",
       "\n",
       "Imported modules:\n",
       "\u001b[0;31mFile:\u001b[0m      ~/Documents/GradSchool/GraphletLift/code/LiftSRW/<lambdifygenerated-24>\n",
       "\u001b[0;31mType:\u001b[0m      function\n"
      ]
     },
     "metadata": {},
     "output_type": "display_data"
    }
   ],
   "source": [
    "f_k?"
   ]
  },
  {
   "cell_type": "markdown",
   "metadata": {},
   "source": [
    "### Here I started to unpack prob functions and rewrite it."
   ]
  },
  {
   "cell_type": "code",
   "execution_count": 53,
   "metadata": {},
   "outputs": [],
   "source": [
    "def prob_functions():\n",
    "        \"\"\"\n",
    "        Construct sympy formulas for graphlet distributions in unordered\n",
    "        method.\n",
    "        'k' is the number of nodes in graphlets,\n",
    "        'vertex distribution' is a sympy formula for the distribution of\n",
    "        initial vertex.\n",
    "        Variable 'x_i' corresponds to the degree of i-th node in the graphlet.\n",
    "        The ordering of nodes in graphlets is the same as in 'graphlet_list'.\n",
    "        Returns a dictionary {ind: probability}, with 'ind' being the index of\n",
    "        the graphlet in 'graphlet_list'.\n",
    "        EXAMPLE:\n",
    "            >prob_functions(graph, 3)\n",
    "            {0: 0.001/(x_0 + x_2 - 2) + 0.001/(x_0 + x_1 - 2),\n",
    "             1: 0.002/(x_1 + x_2 - 2) + 0.002/(x_0 + x_2 - 2) +\n",
    "                0.002/(x_0 + x_1 - 2)}\n",
    "\n",
    "        Helper function for the unordered method.\n",
    "        \"\"\"\n",
    "        k = self.k\n",
    "        x = { n: sympy.var('x_{}'.format(n)) for n in range(k+1) }\n",
    "        y = { n: sympy.var('y_{}'.format(n)) for n in range(k+1) }\n",
    "        graphlet_prob = {0: self.vertex_prob_sympy()}\n",
    "        for n in range(2, k+1):\n",
    "            subgraph_prob_weight = graphlet_prob\n",
    "            graphlet_prob = {}\n",
    "            for graph_ind, graph in enumerate(self.get_graphlet_list(n)):\n",
    "                graphlet_prob[graph_ind] = 0\n",
    "                for u in graph.nodes():\n",
    "                    # We sum the conditional probabilities P(S)*P(T|S) for each\n",
    "                    # connected subgraph S of T.\n",
    "                    subgraph = self.get_subgraph(graph, graph.nodes()-{u})\n",
    "                    if not nx.is_connected(subgraph):\n",
    "                        continue\n",
    "                    subgraph_ind, subgraph_match = self.find_type_match(subgraph, self.graphlet_list)\n",
    "                    subgraph_prob = (subgraph_prob_weight[subgraph_ind]\n",
    "                                     .subs({x[i]: y[i] for i in range(n-1)})\n",
    "                                     .subs({y[j]: x[i] for i, j in\n",
    "                                            subgraph_match.items()}))\n",
    "                    subgraph_deg = (sum(x[i] for i in subgraph.nodes()) -\n",
    "                                    2 * subgraph.number_of_edges())\n",
    "                    graphlet_prob[graph_ind] += (subgraph_prob *\n",
    "                                                 graph.degree(u) / subgraph_deg)\n",
    "        return graphlet_prob"
   ]
  },
  {
   "cell_type": "code",
   "execution_count": 86,
   "metadata": {},
   "outputs": [],
   "source": [
    "import sympy \n",
    "\n",
    "k = 3\n",
    "x = { n: sympy.var('x_{}'.format(n)) for n in range(k+1) }\n",
    "y = { n: sympy.var('y_{}'.format(n)) for n in range(k+1) }\n",
    "graphlet_prob = {0: lift_unordered.vertex_prob_sympy()}\n",
    "n=2\n",
    "\n",
    "graph = nx.path_graph(5)\n",
    "lift_unordered = lt.Lift(graph,3)\n",
    "subgraph = lift_unordered.get_subgraph(graph,lift_unordered.get_graphlet_list(2)[0].nodes() - {0})\n",
    "subgraph_ind, subgraph_match = lift_unordered.find_type_match(subgraph, lift_unordered.graphlet_list)\n",
    "\n",
    "subgraph_prob_weight = graphlet_prob"
   ]
  },
  {
   "cell_type": "code",
   "execution_count": 92,
   "metadata": {},
   "outputs": [],
   "source": [
    "subgraph_prob = subgraph_prob_weight[subgraph_ind].subs({x[i]: y[i] for i in range(n-1)}).subs({y[j]: x[i] for i, j in subgraph_match.items()})"
   ]
  },
  {
   "cell_type": "code",
   "execution_count": 95,
   "metadata": {},
   "outputs": [
    {
     "data": {
      "text/plain": [
       "x_1"
      ]
     },
     "execution_count": 95,
     "metadata": {},
     "output_type": "execute_result"
    }
   ],
   "source": [
    "sum(x[i] for i in subgraph.nodes()) - 2 * subgraph.number_of_edges()"
   ]
  },
  {
   "cell_type": "code",
   "execution_count": 100,
   "metadata": {},
   "outputs": [
    {
     "data": {
      "text/plain": [
       "dict_items([(5, 3), (4, 4), (3, 5), (2, 6), (1, 7), (0, 8), (-1, 9), (-2, 10), (-3, 11), (-4, 12)])"
      ]
     },
     "execution_count": 100,
     "metadata": {},
     "output_type": "execute_result"
    }
   ],
   "source": [
    "dict([ (5-i,3+i) for i in range(10) ]).items()"
   ]
  },
  {
   "cell_type": "code",
   "execution_count": 122,
   "metadata": {},
   "outputs": [
    {
     "data": {
      "text/plain": [
       "0.375"
      ]
     },
     "execution_count": 122,
     "metadata": {},
     "output_type": "execute_result"
    }
   ],
   "source": [
    "lift_unordered.prob_functions[0](*[1,2,3])"
   ]
  },
  {
   "cell_type": "code",
   "execution_count": null,
   "metadata": {},
   "outputs": [],
   "source": []
  }
 ],
 "metadata": {
  "kernelspec": {
   "display_name": "GraphletCount",
   "language": "python",
   "name": "graphletcount"
  },
  "language_info": {
   "codemirror_mode": {
    "name": "ipython",
    "version": 3
   },
   "file_extension": ".py",
   "mimetype": "text/x-python",
   "name": "python",
   "nbconvert_exporter": "python",
   "pygments_lexer": "ipython3",
   "version": "3.7.0"
  }
 },
 "nbformat": 4,
 "nbformat_minor": 2
}
