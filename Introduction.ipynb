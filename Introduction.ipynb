{
 "cells": [
  {
   "cell_type": "markdown",
   "metadata": {},
   "source": [
    "# GraphletLift tutorial\n",
    "In this notebook, we take you through an example use case of our GraphletLift algorithm.\n",
    "\n",
    "We will walk you through: opening a graph file, running a graphlet estimate, and interpreting the results."
   ]
  },
  {
   "cell_type": "code",
   "execution_count": 1,
   "metadata": {},
   "outputs": [],
   "source": [
    "import networkx as nx\n",
    "import pynauty as na\n",
    "import numpy as np\n",
    "import networkx.algorithms.isomorphism as iso\n",
    "import matplotlib.pyplot as plt\n",
    "import random\n",
    "import lift as lt\n",
    "%matplotlib inline\n",
    "plt.style.use(\"default\")"
   ]
  },
  {
   "cell_type": "markdown",
   "metadata": {},
   "source": [
    "Suppose we have an edge list file in our graph directory. This file is formatted so that each line contains an edge, specified by a \"starting_edge_id\" \"terminating_edge_id\". For example,\n",
    "\n",
    "```\n",
    "2 1\n",
    "2 3\n",
    "2 4\n",
    "```\n",
    "\n",
    "Represents a graph with edges between node 2 and nodes 1,3,4. Since our method is for undirected graphs, this would represent the 3-star graph."
   ]
  },
  {
   "cell_type": "markdown",
   "metadata": {},
   "source": [
    "The graphs that come with our repo can be loaded by name. Here we load the graph \"as-caida\" and get an estimate of the count of the 3-node graphlets. The num_steps parameter controls the number of samples to use."
   ]
  },
  {
   "cell_type": "code",
   "execution_count": 14,
   "metadata": {},
   "outputs": [
    {
     "data": {
      "text/plain": [
       "{'2-star': 14942810, '3-cycle': 34341}"
      ]
     },
     "execution_count": 14,
     "metadata": {},
     "output_type": "execute_result"
    }
   ],
   "source": [
    "lift = lt.Lift(\"as-caida\", k=3)\n",
    "lift.get_graphlet_count(num_steps=2000)"
   ]
  },
  {
   "cell_type": "markdown",
   "metadata": {},
   "source": [
    "Compare this with the true counts for the \"as-caida\" data set (obtained via PGD):\n",
    "\n",
    "```\n",
    "2-star: 14797176\n",
    "3-cycle: 36365\n",
    "```"
   ]
  },
  {
   "cell_type": "markdown",
   "metadata": {},
   "source": [
    "By the way, the names correspond to the following graphlets (we provide names for graphlets up to k=4).\n",
    "\n",
    "![title](graphlets.png)\n",
    "\n",
    "From top left to bottom right: 2-path, 2-star, 3-cycle, 3-star, 4-path, 4-tailedtriangle, 4-cycle, 4-chordcycle, 4-clique."
   ]
  },
  {
   "cell_type": "markdown",
   "metadata": {},
   "source": [
    "We can also feed GraphletLift networkx graphs. Here we open \"as-caida\" from its .edgelist file using networkx and feed it to GraphletLift."
   ]
  },
  {
   "cell_type": "code",
   "execution_count": 19,
   "metadata": {},
   "outputs": [
    {
     "data": {
      "text/plain": [
       "{'3-star': 7486464444,\n",
       " '4-chordcycle': 1277106,\n",
       " '4-clique': 0,\n",
       " '4-cycle': 517876,\n",
       " '4-path': 245155643,\n",
       " '4-tailedtriangle': 43189388}"
      ]
     },
     "execution_count": 19,
     "metadata": {},
     "output_type": "execute_result"
    }
   ],
   "source": [
    "graph = nx.read_edgelist('Graphs/as-caida.edgelist', create_using=nx.Graph())\n",
    "lift = lt.Lift(graph, k=4)\n",
    "lift.get_graphlet_count(num_steps=4000)"
   ]
  },
  {
   "cell_type": "markdown",
   "metadata": {},
   "source": [
    "Compare this to the true counts:\n",
    "```\n",
    "'3-star': 7788726198,\n",
    "'4-chordcycle': 1719022,\n",
    "'4-clique': 53875,\n",
    "'4-cycle': 406702,\n",
    "'4-path': 284784486,\n",
    "'4-tailedtriangle': 47227249\n",
    "```"
   ]
  },
  {
   "cell_type": "markdown",
   "metadata": {},
   "source": [
    "This should be enough to get you using GraphletLift. To get better estimates, increase the num_steps parameter. This will need to be balanced with the computation time, which is linear in num_steps. \n",
    "\n",
    "The code is not parallelized, but in principle is embarassingly parallel. We believe that someone with some parallelization experience could easily speed this algorithm to multiple cores using, for instance, the multiprocessing package. "
   ]
  }
 ],
 "metadata": {
  "kernelspec": {
   "display_name": "GraphletCount",
   "language": "python",
   "name": "graphletcount"
  },
  "language_info": {
   "codemirror_mode": {
    "name": "ipython",
    "version": 3
   },
   "file_extension": ".py",
   "mimetype": "text/x-python",
   "name": "python",
   "nbconvert_exporter": "python",
   "pygments_lexer": "ipython3",
   "version": "3.5.2"
  }
 },
 "nbformat": 4,
 "nbformat_minor": 2
}
