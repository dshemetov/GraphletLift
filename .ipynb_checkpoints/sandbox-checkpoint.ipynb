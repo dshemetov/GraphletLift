{
 "cells": [
  {
   "cell_type": "code",
   "execution_count": 1,
   "metadata": {},
   "outputs": [],
   "source": [
    "import networkx as nx\n",
    "import pynauty as na"
   ]
  },
  {
   "cell_type": "code",
   "execution_count": 2,
   "metadata": {},
   "outputs": [
    {
     "name": "stdout",
     "output_type": "stream",
     "text": [
      "g = h?  True g = i?  True g = h?  False\n"
     ]
    }
   ],
   "source": [
    "g = na.Graph(number_of_vertices=8, directed=False,\n",
    "          adjacency_dict = { 0: [1,2],\n",
    "                             1: [0,4],\n",
    "                             2: [0,3,4,5],\n",
    "                             3: [2,4,5,6],\n",
    "                             4: [1,2,3,5],\n",
    "                             5: [4,2,3,7],\n",
    "                             6: [3,7],\n",
    "                             7: [5,6] })\n",
    "\n",
    "h = na.Graph(number_of_vertices=8, directed=False,\n",
    "          adjacency_dict = { 0: [1,2],\n",
    "                             1: [0,4],\n",
    "                             2: [0,3,4,5],\n",
    "                             3: [2,4,5,7],\n",
    "                             4: [1,2,3,5],\n",
    "                             5: [4,2,3,6],\n",
    "                             6: [5,7],\n",
    "                             7: [3,6] })\n",
    "\n",
    "i = na.Graph(number_of_vertices=8, directed=False,\n",
    "          adjacency_dict = { 0: [2,4,3,6],\n",
    "                             1: [5,4],\n",
    "                             2: [0,3,4,5],\n",
    "                             3: [0,2,4,7],\n",
    "                             4: [0,1,2,3],\n",
    "                             5: [1,2],\n",
    "                             6: [0,7],\n",
    "                             7: [3,6] })\n",
    "\n",
    "j = na.Graph(number_of_vertices=8, directed=False,\n",
    "          adjacency_dict = { 0: [1,2],\n",
    "                             1: [0,3],\n",
    "                             2: [0,3,4,5],\n",
    "                             3: [1,2,4,5],\n",
    "                             4: [2,3,5,6],\n",
    "                             5: [2,3,4,5,6,7],\n",
    "                             6: [4,5,7],\n",
    "                             7: [5,6] })\n",
    "\n",
    "print(\"g = h? \", na.certificate(g) == na.certificate(h), \"g = i? \", na.certificate(g) == na.certificate(i), \"g = h? \", na.certificate(g) == na.certificate(j))"
   ]
  },
  {
   "cell_type": "code",
   "execution_count": 5,
   "metadata": {},
   "outputs": [
    {
     "name": "stdout",
     "output_type": "stream",
     "text": [
      "Are the isomorphisms the same?  True\n",
      "What do the isomorphism matrices look like?\n",
      " [True, False, False, False, True, False, False, True, False, True] [True, False, False, False, True, False, False, True, False, True]\n"
     ]
    }
   ],
   "source": [
    "num_graphs = 4\n",
    "random_nx_graphs = [ nx.gnp_random_graph(8,0.4) for i in range(num_graphs) ]\n",
    "random_na_graphs = [ na.Graph(number_of_vertices = 8, directed = False,\n",
    "                              adjacency_dict = { n: list(nbrdict.keys()) for n, nbrdict in graph.adjacency() }\n",
    "                              ) for graph in random_nx_graphs\n",
    "                   ]\n",
    "\n",
    "nx_iso = [ nx.is_isomorphic(random_nx_graphs[i],random_nx_graphs[j]) for i in range(num_graphs) for j in range(i,num_graphs) ]\n",
    "na_iso = [ na.certificate(random_na_graphs[i]) == na.certificate(random_na_graphs[j]) for i in range(num_graphs) for j in range(i,num_graphs) ]\n",
    "\n",
    "print(\"Are the isomorphisms the same? \", nx_iso == na_iso)\n",
    "print(\"What do the isomorphism matrices look like?\\n\", nx_iso, na_iso)"
   ]
  },
  {
   "cell_type": "code",
   "execution_count": null,
   "metadata": {},
   "outputs": [],
   "source": []
  }
 ],
 "metadata": {
  "kernelspec": {
   "display_name": "GraphletCount",
   "language": "python",
   "name": "graphletcount"
  },
  "language_info": {
   "codemirror_mode": {
    "name": "ipython",
    "version": 3
   },
   "file_extension": ".py",
   "mimetype": "text/x-python",
   "name": "python",
   "nbconvert_exporter": "python",
   "pygments_lexer": "ipython3",
   "version": "3.7.0"
  }
 },
 "nbformat": 4,
 "nbformat_minor": 2
}
