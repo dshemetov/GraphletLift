{
 "cells": [
  {
   "cell_type": "code",
   "execution_count": 28,
   "metadata": {},
   "outputs": [],
   "source": [
    "import networkx as nx\n",
    "import pynauty as na\n",
    "import numpy as np\n",
    "import networkx.algorithms.isomorphism as iso\n",
    "import matplotlib.pyplot as plt\n",
    "import random\n",
    "import lift as lt\n",
    "%matplotlib inline"
   ]
  },
  {
   "cell_type": "markdown",
   "metadata": {},
   "source": [
    "### Multiprocessing for parallel comp"
   ]
  },
  {
   "cell_type": "code",
   "execution_count": 3,
   "metadata": {},
   "outputs": [],
   "source": [
    "deg = [[1,2,3],[3,4,5]]"
   ]
  },
  {
   "cell_type": "code",
   "execution_count": 4,
   "metadata": {},
   "outputs": [
    {
     "data": {
      "text/plain": [
       "12"
      ]
     },
     "execution_count": 4,
     "metadata": {},
     "output_type": "execute_result"
    }
   ],
   "source": [
    "def f(a,b,c):\n",
    "    return a + b + c\n",
    "\n",
    "f(*deg[1])"
   ]
  },
  {
   "cell_type": "code",
   "execution_count": 6,
   "metadata": {},
   "outputs": [],
   "source": [
    "import multiprocessing as mp\n",
    "import random \n",
    "from functools import partial\n",
    "\n",
    "lift = lt.Lift(\"bio-celegansneural\", 3)\n",
    "lift.get_graphlet_count()\n",
    "\n",
    "with mp.Pool() as p:\n",
    "    subgraphs = p.map(lift.graph.subgraph, lift.graphlet_samples)\n",
    "    subgraphs = p.map(nx.Graph, subgraphs)\n",
    "    method = partial(lt.find_type_match, lift.nx_graphlet_dict, lift.na_graphlet_cert_dict)\n",
    "    types = p.map(method, subgraphs)\n",
    "    method = partial(lt.get_degree_list, lift.graph)\n",
    "    degree_lists = p.map(method, [ e[1] for e in types ])\n",
    "samples = [\n",
    "    (e[0], lift.prob_functions[e[0]](*degree_lists[i]))\n",
    "    for i, e in enumerate(types)\n",
    "    ]"
   ]
  },
  {
   "cell_type": "code",
   "execution_count": 7,
   "metadata": {},
   "outputs": [],
   "source": [
    "import pickle\n",
    "with open('data.pickle', 'wb') as f:    \n",
    "    pickle.dump(zip(samples, lift.graphlet_samples), f)"
   ]
  },
  {
   "cell_type": "code",
   "execution_count": 30,
   "metadata": {},
   "outputs": [
    {
     "data": {
      "text/plain": [
       "{0: 45784, 1: 3166}"
      ]
     },
     "execution_count": 30,
     "metadata": {},
     "output_type": "execute_result"
    }
   ],
   "source": [
    "import pickle\n",
    "with open('bio-celegansneural_3_graphletcounts.pickle', 'rb') as f:    \n",
    "    graphlet_counts = pickle.load(f)\n",
    "graphlet_counts"
   ]
  },
  {
   "cell_type": "markdown",
   "metadata": {},
   "source": [
    "### Testing updating counts for bio-celegansneural k >= 5"
   ]
  },
  {
   "cell_type": "code",
   "execution_count": 2,
   "metadata": {},
   "outputs": [
    {
     "name": "stdout",
     "output_type": "stream",
     "text": [
      "Samples taken to converge to 5% accuracy: 10000\n"
     ]
    }
   ],
   "source": [
    "# Testing doing sequences of liftings\n",
    "lift = lt.Lift(\"bio-celegansneural\", 5)\n",
    "diff = 10\n",
    "NUM_STEPS = 5000\n",
    "prev_counts = lift.get_graphlet_count(num_steps=NUM_STEPS)\n",
    "while diff > 5 * 10**(-2):\n",
    "    current_counts = lift.get_graphlet_count(num_steps=NUM_STEPS)\n",
    "    diff = (\n",
    "        np.linalg.norm([\n",
    "            (prev_counts[key] - current_counts[key])\n",
    "            for key in prev_counts.keys()])\n",
    "        / np.linalg.norm([\n",
    "            prev_counts[key]\n",
    "            for key in prev_counts.keys()])\n",
    "        )\n",
    "    prev_counts = current_counts\n",
    "\n",
    "print(\"Samples taken to converge to 5% accuracy:\", lift.total_samples)"
   ]
  },
  {
   "cell_type": "code",
   "execution_count": 3,
   "metadata": {},
   "outputs": [
    {
     "ename": "TypeError",
     "evalue": "get_graphlet_prob() missing 3 required positional arguments: 'na_graphlet_cert_dict', 'prob_functions', and 'graphlet_nodes'",
     "output_type": "error",
     "traceback": [
      "\u001b[0;31m---------------------------------------------------------------------------\u001b[0m",
      "\u001b[0;31mTypeError\u001b[0m                                 Traceback (most recent call last)",
      "\u001b[0;32m<ipython-input-3-e395daf8f32c>\u001b[0m in \u001b[0;36m<module>\u001b[0;34m\u001b[0m\n\u001b[1;32m      1\u001b[0m graphlet_types = [lt.get_graphlet_prob(lift, graphlet)[0] \n\u001b[0;32m----> 2\u001b[0;31m                   for graphlet in lift.graphlet_samples]\n\u001b[0m\u001b[1;32m      3\u001b[0m \u001b[0mprint\u001b[0m\u001b[0;34m(\u001b[0m\u001b[0mnp\u001b[0m\u001b[0;34m.\u001b[0m\u001b[0mbincount\u001b[0m\u001b[0;34m(\u001b[0m\u001b[0mgraphlet_types\u001b[0m\u001b[0;34m[\u001b[0m\u001b[0;34m:\u001b[0m\u001b[0mNUM_STEPS\u001b[0m\u001b[0;34m]\u001b[0m\u001b[0;34m)\u001b[0m\u001b[0;34m)\u001b[0m\u001b[0;34m\u001b[0m\u001b[0m\n\u001b[1;32m      4\u001b[0m \u001b[0mprint\u001b[0m\u001b[0;34m(\u001b[0m\u001b[0mnp\u001b[0m\u001b[0;34m.\u001b[0m\u001b[0mbincount\u001b[0m\u001b[0;34m(\u001b[0m\u001b[0mgraphlet_types\u001b[0m\u001b[0;34m[\u001b[0m\u001b[0mNUM_STEPS\u001b[0m\u001b[0;34m:\u001b[0m\u001b[0;34m]\u001b[0m\u001b[0;34m)\u001b[0m\u001b[0;34m)\u001b[0m\u001b[0;34m\u001b[0m\u001b[0m\n",
      "\u001b[0;32m<ipython-input-3-e395daf8f32c>\u001b[0m in \u001b[0;36m<listcomp>\u001b[0;34m(.0)\u001b[0m\n\u001b[1;32m      1\u001b[0m graphlet_types = [lt.get_graphlet_prob(lift, graphlet)[0] \n\u001b[0;32m----> 2\u001b[0;31m                   for graphlet in lift.graphlet_samples]\n\u001b[0m\u001b[1;32m      3\u001b[0m \u001b[0mprint\u001b[0m\u001b[0;34m(\u001b[0m\u001b[0mnp\u001b[0m\u001b[0;34m.\u001b[0m\u001b[0mbincount\u001b[0m\u001b[0;34m(\u001b[0m\u001b[0mgraphlet_types\u001b[0m\u001b[0;34m[\u001b[0m\u001b[0;34m:\u001b[0m\u001b[0mNUM_STEPS\u001b[0m\u001b[0;34m]\u001b[0m\u001b[0;34m)\u001b[0m\u001b[0;34m)\u001b[0m\u001b[0;34m\u001b[0m\u001b[0m\n\u001b[1;32m      4\u001b[0m \u001b[0mprint\u001b[0m\u001b[0;34m(\u001b[0m\u001b[0mnp\u001b[0m\u001b[0;34m.\u001b[0m\u001b[0mbincount\u001b[0m\u001b[0;34m(\u001b[0m\u001b[0mgraphlet_types\u001b[0m\u001b[0;34m[\u001b[0m\u001b[0mNUM_STEPS\u001b[0m\u001b[0;34m:\u001b[0m\u001b[0;34m]\u001b[0m\u001b[0;34m)\u001b[0m\u001b[0;34m)\u001b[0m\u001b[0;34m\u001b[0m\u001b[0m\n",
      "\u001b[0;31mTypeError\u001b[0m: get_graphlet_prob() missing 3 required positional arguments: 'na_graphlet_cert_dict', 'prob_functions', and 'graphlet_nodes'"
     ]
    }
   ],
   "source": [
    "graphlet_types = [lt.get_graphlet_prob(lift, graphlet)[0] \n",
    "                  for graphlet in lift.graphlet_samples]\n",
    "print(np.bincount(graphlet_types[:NUM_STEPS]))\n",
    "print(np.bincount(graphlet_types[NUM_STEPS:]))"
   ]
  },
  {
   "cell_type": "markdown",
   "metadata": {},
   "source": [
    "True counts from ESCAPE. \n",
    "\n",
    "- 4-star: 12590985\n",
    "- 4-path: 6051046\n",
    "- 5-cycle: 89226\n",
    "- Hourglass: 154327\n",
    "\n",
    "Index to name matches:\n",
    "- 0 - 4-star\n",
    "- 2 - 4-path\n",
    "- 7 - 5-cycle\n",
    "- 10 - hourglass"
   ]
  },
  {
   "cell_type": "code",
   "execution_count": 61,
   "metadata": {},
   "outputs": [
    {
     "name": "stdout",
     "output_type": "stream",
     "text": [
      "12243552 6543023 92598 164350\n"
     ]
    }
   ],
   "source": [
    "print(prev_counts[0], prev_counts[2], prev_counts[7], \n",
    "      prev_counts[10] )"
   ]
  },
  {
   "cell_type": "markdown",
   "metadata": {},
   "source": [
    "### Testing update counts on a bigger graph: as-caida"
   ]
  },
  {
   "cell_type": "code",
   "execution_count": 69,
   "metadata": {},
   "outputs": [
    {
     "name": "stdout",
     "output_type": "stream",
     "text": [
      "Samples taken to converge to 5% accuracy: 10000\n"
     ]
    }
   ],
   "source": [
    "# Testing doing sequences of liftings\n",
    "lift = lt.Lift(\"as-caida\", 3)\n",
    "diff = 10\n",
    "NUM_STEPS = 5000\n",
    "current_counts = lift.get_graphlet_count(num_steps=NUM_STEPS)\n",
    "while diff > 5 * 10**(-2):\n",
    "    prev_counts = current_counts\n",
    "    current_counts = lift.get_graphlet_count(num_steps=NUM_STEPS)\n",
    "    diff = (\n",
    "        np.linalg.norm([\n",
    "            (prev_counts[key] - current_counts[key])\n",
    "            for key in prev_counts.keys()])\n",
    "        / np.linalg.norm([\n",
    "            prev_counts[key]\n",
    "            for key in prev_counts.keys()])\n",
    "        )\n",
    "\n",
    "print(\"Samples taken to converge to 5% accuracy:\", lift.total_samples)"
   ]
  },
  {
   "cell_type": "code",
   "execution_count": 74,
   "metadata": {},
   "outputs": [
    {
     "data": {
      "text/plain": [
       "{'triangle': 51162, 'wedge': 13985461}"
      ]
     },
     "execution_count": 74,
     "metadata": {},
     "output_type": "execute_result"
    }
   ],
   "source": [
    "prev_counts"
   ]
  },
  {
   "cell_type": "code",
   "execution_count": 75,
   "metadata": {},
   "outputs": [
    {
     "data": {
      "text/plain": [
       "{'triangle': 41832, 'wedge': 14189280}"
      ]
     },
     "execution_count": 75,
     "metadata": {},
     "output_type": "execute_result"
    }
   ],
   "source": [
    "current_counts"
   ]
  },
  {
   "cell_type": "code",
   "execution_count": 76,
   "metadata": {},
   "outputs": [
    {
     "name": "stdout",
     "output_type": "stream",
     "text": [
      "[4894  106]\n",
      "[4903   97]\n"
     ]
    }
   ],
   "source": [
    "graphlet_types = [lt.get_graphlet_prob(lift, graphlet)[0] \n",
    "                  for graphlet in lift.graphlet_samples]\n",
    "print(np.bincount(graphlet_types[:NUM_STEPS]))\n",
    "print(np.bincount(graphlet_types[NUM_STEPS:]))"
   ]
  },
  {
   "cell_type": "code",
   "execution_count": null,
   "metadata": {},
   "outputs": [],
   "source": []
  },
  {
   "cell_type": "markdown",
   "metadata": {},
   "source": [
    "### Testing the index and naming\n",
    "All is well."
   ]
  },
  {
   "cell_type": "code",
   "execution_count": 4,
   "metadata": {},
   "outputs": [],
   "source": [
    "graph = lt.load_graph_fromfile(\"bio-celegansneural\")\n",
    "lift = lt.Lift(graph, k=5)"
   ]
  },
  {
   "cell_type": "code",
   "execution_count": 22,
   "metadata": {},
   "outputs": [
    {
     "data": {
      "image/png": "[encoded data removed]",
      "text/plain": [
       "<Figure size 432x288 with 1 Axes>"
      ]
     },
     "metadata": {},
     "output_type": "display_data"
    }
   ],
   "source": [
    "nx.draw(lift.nx_graphlet_dict[4][4])"
   ]
  },
  {
   "cell_type": "markdown",
   "metadata": {},
   "source": [
    "### Dependence on num_steps for celegans network."
   ]
  },
  {
   "cell_type": "code",
   "execution_count": 65,
   "metadata": {},
   "outputs": [
    {
     "data": {
      "text/plain": [
       "[<matplotlib.lines.Line2D at 0x10fc53940>]"
      ]
     },
     "execution_count": 65,
     "metadata": {},
     "output_type": "execute_result"
    },
    {
     "data": {
      "image/png": "[encoded data removed]",
      "text/plain": [
       "<Figure size 432x288 with 1 Axes>"
      ]
     },
     "metadata": {
      "needs_background": "light"
     },
     "output_type": "display_data"
    }
   ],
   "source": [
    "GRAPH = lt.load_graph_fromfile(\"bio-celegansneural\")\n",
    "K = 3\n",
    "TRUE_COUNTS = {\n",
    "    'wedge': 44081,\n",
    "    'triangle': 3241\n",
    "}\n",
    "NUM_RUNS = 10\n",
    "STEPS = [10, 100, 1000, 10000, 50000]\n",
    "\n",
    "experiments = [[lt.Lift(GRAPH, K).graphlet_count(num_steps=step)\n",
    "                for i in range(NUM_RUNS)]\n",
    "               for step in STEPS]\n",
    "error_rate = [\n",
    "    sum(\n",
    "        [np.linalg.norm(\n",
    "            [run[key] - TRUE_COUNTS[key] \n",
    "             for key in TRUE_COUNTS.keys()]\n",
    "        ) for run in experiment]\n",
    "    )\n",
    "    / num_runs\n",
    "    / np.linalg.norm(\n",
    "        [TRUE_COUNTS[key]\n",
    "         for key in TRUE_COUNTS.keys()])\n",
    "    for experiment in experiments \n",
    "]\n",
    "\n",
    "plt.plot(STEPS, error_rate)"
   ]
  },
  {
   "cell_type": "code",
   "execution_count": 66,
   "metadata": {},
   "outputs": [
    {
     "name": "stdout",
     "output_type": "stream",
     "text": [
      "Minimum steps needed to get 10% accuracy:  100\n"
     ]
    }
   ],
   "source": [
    "min_steps = steps[np.min(np.where(np.array(error_rate) < .1))]\n",
    "print(\"Minimum steps needed to get 10% accuracy: \",\n",
    "      min_steps)"
   ]
  },
  {
   "cell_type": "code",
   "execution_count": 67,
   "metadata": {},
   "outputs": [
    {
     "name": "stdout",
     "output_type": "stream",
     "text": [
      "Speed of the sampling procedure:\n",
      "186 ms ± 27.1 ms per loop (mean ± std. dev. of 7 runs, 1 loop each)\n"
     ]
    }
   ],
   "source": [
    "print(\"Speed of the sampling procedure:\")\n",
    "%timeit lt.Lift(GRAPH, K).graphlet_count(num_steps=min_steps)"
   ]
  },
  {
   "cell_type": "code",
   "execution_count": 70,
   "metadata": {},
   "outputs": [
    {
     "name": "stdout",
     "output_type": "stream",
     "text": [
      "Approximately 2ms per sample.\n"
     ]
    }
   ],
   "source": [
    "print(\"Approximately 2ms per sample.\")"
   ]
  },
  {
   "cell_type": "markdown",
   "metadata": {},
   "source": [
    "### Celegansneural and k=4."
   ]
  },
  {
   "cell_type": "code",
   "execution_count": 71,
   "metadata": {},
   "outputs": [
    {
     "name": "stdout",
     "output_type": "stream",
     "text": [
      "Minimum steps needed to get 10% accuracy:  1000\n",
      "Speed of the sampling procedure:\n",
      "421 ms ± 3.29 ms per loop (mean ± std. dev. of 7 runs, 1 loop each)\n"
     ]
    },
    {
     "data": {
      "text/plain": [
       "[<matplotlib.lines.Line2D at 0x10fa58978>]"
      ]
     },
     "execution_count": 71,
     "metadata": {},
     "output_type": "execute_result"
    },
    {
     "data": {
      "image/png": "[encoded data removed]",
      "text/plain": [
       "<Figure size 432x288 with 1 Axes>"
      ]
     },
     "metadata": {
      "needs_background": "light"
     },
     "output_type": "display_data"
    }
   ],
   "source": [
    "GRAPH = lt.load_graph_fromfile(\"bio-celegansneural\")\n",
    "K = 4\n",
    "TRUE_COUNTS = {\n",
    "    '3-star': 650925,\n",
    "    '4-path': 516426,\n",
    "    '4-tailedtriangle': 186292,\n",
    "    '4-cycle': 15863,\n",
    "    '4-chordcycle': 22743,\n",
    "    '4-clique': 2010\n",
    "}\n",
    "NUM_RUNS = 10\n",
    "STEPS = [10, 100, 1000, 10000, 50000]\n",
    "\n",
    "experiments = [[lt.Lift(GRAPH, K).graphlet_count(num_steps=step)\n",
    "                for i in range(NUM_RUNS)]\n",
    "               for step in STEPS]\n",
    "error_rate = [\n",
    "    sum(\n",
    "        [np.linalg.norm(\n",
    "            [run[key] - TRUE_COUNTS[key] \n",
    "             for key in TRUE_COUNTS.keys()]\n",
    "        ) for run in experiment]\n",
    "    )\n",
    "    / num_runs \n",
    "    / np.linalg.norm(\n",
    "        [TRUE_COUNTS[key] \n",
    "         for key in TRUE_COUNTS.keys()])\n",
    "    for experiment in experiments \n",
    "]\n",
    "\n",
    "min_steps = steps[np.min(np.where(np.array(error_rate) < .1))]\n",
    "print(\"Minimum steps needed to get 10% accuracy: \",\n",
    "      min_steps)\n",
    "print(\"Speed of the sampling procedure:\")\n",
    "%timeit lt.Lift(GRAPH, K).graphlet_count(num_steps=min_steps)\n",
    "\n",
    "plt.plot(STEPS, error_rate)"
   ]
  },
  {
   "cell_type": "code",
   "execution_count": 72,
   "metadata": {},
   "outputs": [
    {
     "data": {
      "text/plain": [
       "[0.6428207469947186,\n",
       " 0.24166797905598497,\n",
       " 0.07658217464334786,\n",
       " 0.019115356904939148,\n",
       " 0.01238369077437654]"
      ]
     },
     "execution_count": 72,
     "metadata": {},
     "output_type": "execute_result"
    }
   ],
   "source": [
    "error_rate"
   ]
  },
  {
   "cell_type": "code",
   "execution_count": null,
   "metadata": {},
   "outputs": [],
   "source": [
    "accurate_num_steps = {\n",
    "    \"bio-celegans\": {\n",
    "        3: 100,\n",
    "        4: 1000\n",
    "    }\n",
    "}"
   ]
  },
  {
   "cell_type": "markdown",
   "metadata": {},
   "source": [
    "### Here we see a 5x speed gain when doing find_type_match with pynauty over networkx."
   ]
  },
  {
   "cell_type": "code",
   "execution_count": 2,
   "metadata": {},
   "outputs": [],
   "source": [
    "num_graphs = 1000\n",
    "graph_size = 3\n",
    "random_nx_graphs = [nx.gnp_random_graph(graph_size,0.6) for i in range(num_graphs)]\n",
    "random_na_graphs = [na.Graph(number_of_vertices = graph_size, directed = False,\n",
    "                             adjacency_dict = { n: list(nbrdict.keys()) for n, nbrdict in graph.adjacency() }) \n",
    "                    for graph in random_nx_graphs]\n",
    "\n",
    "%time nx_iso = [nx.is_isomorphic(random_nx_graphs[i],random_nx_graphs[j]) \n",
    "          for i in range(num_graphs) \n",
    "          for j in range(i,num_graphs)]\n",
    "\n",
    "%time na_iso = [na.certificate(random_na_graphs[i]) == na.certificate(random_na_graphs[j]) \n",
    "          for i in range(num_graphs) \n",
    "          for j in range(i,num_graphs)]"
   ]
  },
  {
   "cell_type": "markdown",
   "metadata": {},
   "source": [
    "### Here we show that simply using pynauty to do isomorphism gets a 4x speedup over Kirill's code."
   ]
  },
  {
   "cell_type": "code",
   "execution_count": 3,
   "metadata": {},
   "outputs": [],
   "source": [
    "def find_type_match(graph, graphlet_list):\n",
    "    \"\"\"\n",
    "    Given a graph, find an isomorphism with one of the canonical graphs from\n",
    "    'graphlet_list'.\n",
    "    Return index of the corresponding graph from 'graphlet_list' and a\n",
    "    match dictionary.\n",
    "    The match dictionary has format {u_i: v_i}, 'u_i' are nodes from 'graph'\n",
    "    and 'v_i' are nodes from canonical graph.\n",
    "    Helper function for 'prob_functions' for unordered method.\n",
    "    \"\"\"\n",
    "    nodes = graph.nodes()\n",
    "    n = len(nodes)\n",
    "    if n == 1:\n",
    "        # trivial graph: just send it to zero!\n",
    "        return (0, {u: 0 for u in nodes})\n",
    "    if n == 2:\n",
    "        # 2-path graph: both nodes are equal, pick a random isomorphism\n",
    "        return (0, {u: i for i, u in enumerate(nodes)})\n",
    "    if n == 3:\n",
    "        if graph.number_of_edges() == 2:\n",
    "            # wedge-graph: find root, other two are arbitrary\n",
    "            u0 = next((node for node in nodes if graph.degree(node) == 2))\n",
    "            (u1, u2) = (node for node in graph.neighbors(u0))\n",
    "            return (0, {u0: 0, u1: 1, u2: 2})\n",
    "        if graph.number_of_edges() == 3:\n",
    "            # triangle: all three are arbitrary\n",
    "            return (1, {u: i for i, u in enumerate(nodes)})\n",
    "    if n == 4:\n",
    "        e_num = graph.number_of_edges()\n",
    "        max_degree = max((graph.degree(node) for node in nodes))\n",
    "        if e_num == 3 and max_degree == 3:\n",
    "            u3 = next((node for node in nodes if graph.degree(node) == 3))\n",
    "            (u0, u1, u2) = tuple(graph.neighbors(u3))\n",
    "            return (0, {u0: 0, u1: 1, u2: 2, u3: 3})\n",
    "        if e_num == 3 and max_degree == 2:\n",
    "            (u0, u1) = (node for node in nodes if graph.degree(node) == 2)\n",
    "            u2 = next((node for node in graph.neighbors(u1) if node != u0))\n",
    "            u3 = next((node for node in graph.neighbors(u0) if node != u1))\n",
    "            return (1, {u0: 0, u1: 1, u2: 2, u3: 3})\n",
    "        if e_num == 4 and max_degree == 3:\n",
    "            u3 = next((node for node in nodes if graph.degree(node) == 3))\n",
    "            (u1, u2) = (node for node in nodes if graph.degree(node) == 2)\n",
    "            u0 = next((node for node in nodes if graph.degree(node) == 1))\n",
    "            return (2, {u0: 0, u1: 1, u2: 2, u3: 3})\n",
    "        if e_num == 4 and max_degree == 2:\n",
    "            u0 = next((node for node in nodes))\n",
    "            (u1, u3) = tuple(graph.neighbors(u0))\n",
    "            u2 = next((node for node in graph.neighbors(u1) if node != u0))\n",
    "            return (3, {u0: 0, u1: 1, u2: 2, u3: 3})\n",
    "        if e_num == 5:\n",
    "            (u0, u2) = (node for node in nodes if graph.degree(node) == 3)\n",
    "            (u1, u3) = (node for node in nodes if graph.degree(node) == 2)\n",
    "            return (4, {u0: 0, u1: 1, u2: 2, u3: 3})\n",
    "        if e_num == 6:\n",
    "            (u0, u1, u2, u3) = tuple(nodes)\n",
    "            return (5, {u0: 0, u1: 1, u2: 2, u3: 3})\n",
    "        raise ValueError(\"wrong graphlet format\")\n",
    "\n",
    "    # Improve matching procedure here for n>4.\n",
    "    for (i, graph_) in enumerate(graphlet_list):\n",
    "        graph_matcher = iso.GraphMatcher(graph, graph_)\n",
    "        if graph_matcher.is_isomorphic():\n",
    "            break\n",
    "    #assert graph_id[1].is_isomorphic()\n",
    "    return (i, graph_matcher.mapping)\n",
    "\n",
    "def get_graphlet_list(k):\n",
    "    \"\"\"\n",
    "    Generate list of all graphlets of size 'k'.\n",
    "    List is taken from graph_atlas of networkx.\n",
    "    \"\"\"\n",
    "    from networkx.generators.atlas import graph_atlas_g\n",
    "    assert k > 0\n",
    "    atlas = graph_atlas_g()[1:]\n",
    "    graphlet_list = []\n",
    "    for graph in atlas:\n",
    "        n = graph.number_of_nodes()\n",
    "        if n < k:\n",
    "            continue\n",
    "        if n > k:\n",
    "            break\n",
    "        if nx.is_connected(graph):\n",
    "            graphlet_list.append(graph)\n",
    "    return graphlet_list\n",
    "\n",
    "def nxgraph_to_nagraph(nxgraph):\n",
    "    return na.Graph(number_of_vertices = graphlet_size, \n",
    "                    directed = False,\n",
    "                    adjacency_dict = { n: list(nbrdict.keys()) \n",
    "                                       for n, nbrdict in nxgraph.adjacency() }\n",
    "                    )\n",
    "\n",
    "def find_type_match2(graph, na_graphlet_list, nx_graphlet_list):\n",
    "    import networkx.algorithms.isomorphism as iso\n",
    "    \n",
    "    for i, graph2 in enumerate(na_graphlet_list):\n",
    "        if na.certificate(graph) == na.certificate(graph2):\n",
    "            break\n",
    "    \n",
    "    G1 = nx.from_dict_of_lists(graph.adjacency_dict)\n",
    "    G2 = nx_graphlet_list[i]\n",
    "    matcher = iso.GraphMatcher(G1, G2)\n",
    "    mapping = next(matcher.match())\n",
    "    return (i, mapping)"
   ]
  },
  {
   "cell_type": "code",
   "execution_count": 117,
   "metadata": {},
   "outputs": [],
   "source": [
    "graphlet_size = 5\n",
    "nx_graphlet_list = get_graphlet_list(graphlet_size)\n",
    "na_graphlet_list = [ nxgraph_to_nagraph(graph) for graph in nx_graphlet_list ]\n",
    "num_graphs = 500\n",
    "random_nx_graphs = [ random.choice(nx_graphlet_list) for i in range(num_graphs) ]\n",
    "random_na_graphs = [ nxgraph_to_nagraph(graph) for graph in random_nx_graphs ]"
   ]
  },
  {
   "cell_type": "code",
   "execution_count": 118,
   "metadata": {},
   "outputs": [
    {
     "name": "stdout",
     "output_type": "stream",
     "text": [
      "CPU times: user 489 ms, sys: 8.57 ms, total: 498 ms\n",
      "Wall time: 532 ms\n"
     ]
    }
   ],
   "source": [
    "%%time\n",
    "nx_types = [ find_type_match(graph, nx_graphlet_list) for graph in random_nx_graphs ]"
   ]
  },
  {
   "cell_type": "code",
   "execution_count": 119,
   "metadata": {},
   "outputs": [
    {
     "name": "stdout",
     "output_type": "stream",
     "text": [
      "CPU times: user 267 ms, sys: 5.12 ms, total: 272 ms\n",
      "Wall time: 292 ms\n"
     ]
    }
   ],
   "source": [
    "%%time\n",
    "na_types = [ find_type_match2(graph, na_graphlet_list, nx_graphlet_list) for graph in random_na_graphs ]"
   ]
  },
  {
   "cell_type": "code",
   "execution_count": 97,
   "metadata": {},
   "outputs": [
    {
     "name": "stdout",
     "output_type": "stream",
     "text": [
      "True\n"
     ]
    }
   ],
   "source": [
    "for i, graph2 in enumerate(na_graphlet_list):\n",
    "    if na.certificate(random_na_graphs[0]) == na.certificate(graph2):\n",
    "        break\n",
    "G1 = nx.from_dict_of_lists(random_na_graphs[0].adjacency_dict)\n",
    "G2 = nx_graphlet_list[i]\n",
    "find_type_match2(random_na_graphs[0], na_graphlet_list, nx_graphlet_list)\n",
    "print(iso.is_isomorphic(G1, G2))"
   ]
  },
  {
   "cell_type": "code",
   "execution_count": 98,
   "metadata": {},
   "outputs": [
    {
     "data": {
      "image/png": "[encoded data removed]",
      "text/plain": [
       "<Figure size 432x288 with 1 Axes>"
      ]
     },
     "metadata": {},
     "output_type": "display_data"
    }
   ],
   "source": [
    "nx.draw(G1,with_labels=True)"
   ]
  },
  {
   "cell_type": "code",
   "execution_count": 99,
   "metadata": {},
   "outputs": [
    {
     "data": {
      "image/png": "[encoded data removed]",
      "text/plain": [
       "<Figure size 432x288 with 1 Axes>"
      ]
     },
     "metadata": {},
     "output_type": "display_data"
    }
   ],
   "source": [
    "nx.draw(G2,with_labels=True)"
   ]
  },
  {
   "cell_type": "markdown",
   "metadata": {},
   "source": [
    "# Test NetworkX subgraphing vs Kirill's code.\n",
    "NetworkX is faster."
   ]
  },
  {
   "cell_type": "code",
   "execution_count": 18,
   "metadata": {},
   "outputs": [
    {
     "name": "stdout",
     "output_type": "stream",
     "text": [
      "Are methods equal? True\n",
      "bio-celegansneural\n",
      "NetworkX performance:\n",
      "222 µs ± 26.4 µs per loop (mean ± std. dev. of 7 runs, 1000 loops each)\n",
      "Kirill performance:\n",
      "580 µs ± 60.5 µs per loop (mean ± std. dev. of 7 runs, 1000 loops each)\n",
      "misc-polblogs\n",
      "NetworkX performance:\n",
      "256 µs ± 47.5 µs per loop (mean ± std. dev. of 7 runs, 10000 loops each)\n",
      "Kirill performance:\n",
      "1.04 ms ± 118 µs per loop (mean ± std. dev. of 7 runs, 1000 loops each)\n"
     ]
    }
   ],
   "source": [
    "def get_subgraph(graph, nodes):\n",
    "    \"\"\"\n",
    "    Manually constructs the induced subgraph given a list of nodes from the full graph.\n",
    "    Returns a new networkx graph object.\n",
    "    Helper function for shotgun method and probability functions in the unordered method.\n",
    "\n",
    "    NOTE:\n",
    "        We use this because the networkx subgraph method is very slow.\n",
    "    \"\"\"\n",
    "    list_nodes = list(nodes)\n",
    "    subgraph = nx.Graph()\n",
    "    subgraph.add_nodes_from(nodes)\n",
    "    for i, node in enumerate(list_nodes):\n",
    "        neighbors = list(graph.neighbors(node))\n",
    "        for j in range(i+1, len(list_nodes)):\n",
    "            if list_nodes[j] in neighbors:\n",
    "                subgraph.add_edge(node, list_nodes[j])\n",
    "    return subgraph\n",
    "\n",
    "graph = lt.load_graph_fromfile(\"bio-celegansneural\")\n",
    "\n",
    "n = 100\n",
    "k = 5\n",
    "lift_unordered = lt.Lift(graph,k)\n",
    "vertex_sets = [lift_unordered.sample_unordered_lift(lt.sample_vertex(graph))\n",
    "               for j in range(n)]\n",
    "\n",
    "nx_subg = [nx.to_dict_of_dicts(graph.subgraph(vertex_set)) \n",
    "           for vertex_set in vertex_sets]\n",
    "k_subg = [nx.to_dict_of_dicts(get_subgraph(graph, vertex_set)) \n",
    "          for vertex_set in vertex_sets]\n",
    "\n",
    "print(\"Are methods equal?\", all([ nx_subg[i] == k_subg[i] for i in range(n) ]))\n",
    "\n",
    "graph = lt.load_graph_fromfile(\"bio-celegansneural\")\n",
    "\n",
    "n = 20\n",
    "k = 5\n",
    "lift_unordered = lt.Lift(graph,k)\n",
    "vertex_sets = [lift_unordered.sample_unordered_lift(lt.sample_vertex(graph))\n",
    "               for j in range(n)]\n",
    "\n",
    "print(\"bio-celegansneural\")\n",
    "print(\"NetworkX performance:\")\n",
    "%timeit nx_subg = [ graph.subgraph(vertex_set) for vertex_set in vertex_sets ]\n",
    "print(\"Kirill performance:\")\n",
    "%timeit k_subg = [ get_subgraph(graph, vertex_set) for vertex_set in vertex_sets ]\n",
    "\n",
    "graph = lt.load_graph_fromfile(\"misc-polblogs\")\n",
    "\n",
    "n = 20\n",
    "k = 5\n",
    "lift_unordered = lt.Lift(graph,k)\n",
    "vertex_sets = [lift_unordered.sample_unordered_lift(lt.sample_vertex(graph))\n",
    "               for j in range(n)]\n",
    "\n",
    "print(\"misc-polblogs\")\n",
    "print(\"NetworkX performance:\")\n",
    "%timeit nx_subg = [ graph.subgraph(vertex_set) for vertex_set in vertex_sets ]\n",
    "print(\"Kirill performance:\")\n",
    "%timeit k_subg = [ get_subgraph(graph, vertex_set) for vertex_set in vertex_sets ]"
   ]
  },
  {
   "cell_type": "code",
   "execution_count": null,
   "metadata": {},
   "outputs": [],
   "source": []
  }
 ],
 "metadata": {
  "kernelspec": {
   "display_name": "GraphletCount",
   "language": "python",
   "name": "graphletcount"
  },
  "language_info": {
   "codemirror_mode": {
    "name": "ipython",
    "version": 3
   },
   "file_extension": ".py",
   "mimetype": "text/x-python",
   "name": "python",
   "nbconvert_exporter": "python",
   "pygments_lexer": "ipython3",
   "version": "3.5.2"
  }
 },
 "nbformat": 4,
 "nbformat_minor": 2
}
